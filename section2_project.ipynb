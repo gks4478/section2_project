{
  "cells": [
    {
      "cell_type": "markdown",
      "metadata": {
        "id": "view-in-github",
        "colab_type": "text"
      },
      "source": [
        "<a href=\"https://colab.research.google.com/github/gks4478/section2_project/blob/main/section2_project.ipynb\" target=\"_parent\"><img src=\"https://colab.research.google.com/assets/colab-badge.svg\" alt=\"Open In Colab\"/></a>"
      ]
    },
    {
      "cell_type": "code",
      "execution_count": null,
      "metadata": {
        "id": "cUtiRNt7llJd"
      },
      "outputs": [],
      "source": [
        "import pandas as pd\n",
        "df = pd.read_csv('mussorie_reviews.csv')"
      ]
    },
    {
      "cell_type": "code",
      "execution_count": null,
      "metadata": {
        "id": "93Ln4x9HllJf",
        "outputId": "77b6b4e2-4678-4aaa-d386-8de68cfd06df"
      },
      "outputs": [
        {
          "data": {
            "text/html": [
              "<div>\n",
              "<style scoped>\n",
              "    .dataframe tbody tr th:only-of-type {\n",
              "        vertical-align: middle;\n",
              "    }\n",
              "\n",
              "    .dataframe tbody tr th {\n",
              "        vertical-align: top;\n",
              "    }\n",
              "\n",
              "    .dataframe thead th {\n",
              "        text-align: right;\n",
              "    }\n",
              "</style>\n",
              "<table border=\"1\" class=\"dataframe\">\n",
              "  <thead>\n",
              "    <tr style=\"text-align: right;\">\n",
              "      <th></th>\n",
              "      <th>Review</th>\n",
              "      <th>Date of stay</th>\n",
              "      <th>Rating</th>\n",
              "    </tr>\n",
              "  </thead>\n",
              "  <tbody>\n",
              "    <tr>\n",
              "      <th>0</th>\n",
              "      <td>Most beautiful stay at Mussoorie...such a gorg...</td>\n",
              "      <td>Date of stay: August 2021</td>\n",
              "      <td>&lt;span class=\"ui_bubble_rating bubble_50\"&gt;&lt;/span&gt;</td>\n",
              "    </tr>\n",
              "    <tr>\n",
              "      <th>1</th>\n",
              "      <td>NaN</td>\n",
              "      <td>NaN</td>\n",
              "      <td>NaN</td>\n",
              "    </tr>\n",
              "    <tr>\n",
              "      <th>2</th>\n",
              "      <td>The Savoy is one of those rare hotels that not...</td>\n",
              "      <td>Date of stay: October 2020</td>\n",
              "      <td>&lt;span class=\"ui_bubble_rating bubble_50\"&gt;&lt;/span&gt;</td>\n",
              "    </tr>\n",
              "    <tr>\n",
              "      <th>3</th>\n",
              "      <td>NaN</td>\n",
              "      <td>NaN</td>\n",
              "      <td>NaN</td>\n",
              "    </tr>\n",
              "    <tr>\n",
              "      <th>4</th>\n",
              "      <td>Def Best stay in Uttarakand ! Amazing nature. ...</td>\n",
              "      <td>Date of stay: November 2021</td>\n",
              "      <td>&lt;span class=\"ui_bubble_rating bubble_50\"&gt;&lt;/span&gt;</td>\n",
              "    </tr>\n",
              "  </tbody>\n",
              "</table>\n",
              "</div>"
            ],
            "text/plain": [
              "                                              Review  \\\n",
              "0  Most beautiful stay at Mussoorie...such a gorg...   \n",
              "1                                                NaN   \n",
              "2  The Savoy is one of those rare hotels that not...   \n",
              "3                                                NaN   \n",
              "4  Def Best stay in Uttarakand ! Amazing nature. ...   \n",
              "\n",
              "                  Date of stay  \\\n",
              "0    Date of stay: August 2021   \n",
              "1                          NaN   \n",
              "2   Date of stay: October 2020   \n",
              "3                          NaN   \n",
              "4  Date of stay: November 2021   \n",
              "\n",
              "                                             Rating  \n",
              "0  <span class=\"ui_bubble_rating bubble_50\"></span>  \n",
              "1                                               NaN  \n",
              "2  <span class=\"ui_bubble_rating bubble_50\"></span>  \n",
              "3                                               NaN  \n",
              "4  <span class=\"ui_bubble_rating bubble_50\"></span>  "
            ]
          },
          "execution_count": 44,
          "metadata": {},
          "output_type": "execute_result"
        }
      ],
      "source": [
        "df.head()"
      ]
    },
    {
      "cell_type": "code",
      "execution_count": null,
      "metadata": {
        "id": "NyqE0TZ_llJg"
      },
      "outputs": [],
      "source": [
        "import re\n",
        "from nltk.corpus import stopwords as StopWords\n",
        "from sklearn.preprocessing import LabelEncoder\n",
        "from sklearn.model_selection import train_test_split\n",
        "from imblearn.under_sampling import RandomUnderSampler\n",
        "from sklearn.feature_extraction.text import TfidfVectorizer\n",
        "from xgboost import XGBClassifier\n",
        "from sklearn.metrics import classification_report, log_loss\n",
        "from sklearn.naive_bayes import MultinomialNB\n",
        "from sklearn.svm import SVC\n",
        "from sklearn.tree import DecisionTreeClassifier\n",
        "from sklearn.linear_model import LogisticRegression, SGDClassifier\n",
        "from sklearn.metrics import accuracy_score"
      ]
    },
    {
      "cell_type": "code",
      "execution_count": null,
      "metadata": {
        "id": "HptijGEUllJh"
      },
      "outputs": [],
      "source": [
        "# 1. 결측치 삭제\n",
        "df.dropna(inplace= True)\n",
        "# 2. 중복치 삭제\n",
        "df.drop_duplicates(inplace= True)\n",
        "# 3. Rating 평점 생성\n",
        "df[\"Rating\"] = df[\"Rating\"].apply(lambda x: re.findall(\"\\d\", x)[0])\n",
        "# 4. Sentiment 생성\n",
        "df['Sentiment'] = df['Rating'].map({\"5\":\"Positive\", \"4\":\"Positive\", \"3\":\"Neutral\", \"2\":\"Negative\", \"1\":\"Negative\"})\n",
        "# 5. year 생성\n",
        "df['year'] = df['Date of stay'].apply(lambda x: int(x.split()[-1]))\n",
        "# 6. month 생성\n",
        "df['month'] = df['Date of stay'].apply(lambda x: x.split()[-2])\n",
        "# 7. 3점 삭제\n",
        "df.drop(df[df['Sentiment'] == 'Neutral'].index, axis = 0, inplace = True)\n",
        "# 8. 2017년 이하 삭제\n",
        "df.drop(df[df[\"year\"] < 2018].index, axis=0, inplace=True)\n",
        "# 9. 필요없는 특성 삭제\n",
        "df.drop('Date of stay', axis = 1, inplace=True)\n",
        "# 10. 인덱스 리셋\n",
        "df.reset_index(inplace= True, drop= True)"
      ]
    },
    {
      "cell_type": "code",
      "execution_count": null,
      "metadata": {
        "id": "vnac4pYVllJi",
        "outputId": "340bcdaf-867e-4b14-e74a-ef04bd469e39"
      },
      "outputs": [
        {
          "data": {
            "text/html": [
              "<div>\n",
              "<style scoped>\n",
              "    .dataframe tbody tr th:only-of-type {\n",
              "        vertical-align: middle;\n",
              "    }\n",
              "\n",
              "    .dataframe tbody tr th {\n",
              "        vertical-align: top;\n",
              "    }\n",
              "\n",
              "    .dataframe thead th {\n",
              "        text-align: right;\n",
              "    }\n",
              "</style>\n",
              "<table border=\"1\" class=\"dataframe\">\n",
              "  <thead>\n",
              "    <tr style=\"text-align: right;\">\n",
              "      <th></th>\n",
              "      <th>Review</th>\n",
              "      <th>Rating</th>\n",
              "      <th>Sentiment</th>\n",
              "      <th>year</th>\n",
              "      <th>month</th>\n",
              "    </tr>\n",
              "  </thead>\n",
              "  <tbody>\n",
              "    <tr>\n",
              "      <th>0</th>\n",
              "      <td>Most beautiful stay at Mussoorie...such a gorg...</td>\n",
              "      <td>5</td>\n",
              "      <td>Positive</td>\n",
              "      <td>2021</td>\n",
              "      <td>August</td>\n",
              "    </tr>\n",
              "    <tr>\n",
              "      <th>1</th>\n",
              "      <td>The Savoy is one of those rare hotels that not...</td>\n",
              "      <td>5</td>\n",
              "      <td>Positive</td>\n",
              "      <td>2020</td>\n",
              "      <td>October</td>\n",
              "    </tr>\n",
              "    <tr>\n",
              "      <th>2</th>\n",
              "      <td>Def Best stay in Uttarakand ! Amazing nature. ...</td>\n",
              "      <td>5</td>\n",
              "      <td>Positive</td>\n",
              "      <td>2021</td>\n",
              "      <td>November</td>\n",
              "    </tr>\n",
              "    <tr>\n",
              "      <th>3</th>\n",
              "      <td>Very very friendly and efficient staff … loved...</td>\n",
              "      <td>5</td>\n",
              "      <td>Positive</td>\n",
              "      <td>2021</td>\n",
              "      <td>November</td>\n",
              "    </tr>\n",
              "    <tr>\n",
              "      <th>4</th>\n",
              "      <td>Exceptional property. Just great experience. V...</td>\n",
              "      <td>5</td>\n",
              "      <td>Positive</td>\n",
              "      <td>2021</td>\n",
              "      <td>October</td>\n",
              "    </tr>\n",
              "  </tbody>\n",
              "</table>\n",
              "</div>"
            ],
            "text/plain": [
              "                                              Review Rating Sentiment  year  \\\n",
              "0  Most beautiful stay at Mussoorie...such a gorg...      5  Positive  2021   \n",
              "1  The Savoy is one of those rare hotels that not...      5  Positive  2020   \n",
              "2  Def Best stay in Uttarakand ! Amazing nature. ...      5  Positive  2021   \n",
              "3  Very very friendly and efficient staff … loved...      5  Positive  2021   \n",
              "4  Exceptional property. Just great experience. V...      5  Positive  2021   \n",
              "\n",
              "      month  \n",
              "0    August  \n",
              "1   October  \n",
              "2  November  \n",
              "3  November  \n",
              "4   October  "
            ]
          },
          "execution_count": 47,
          "metadata": {},
          "output_type": "execute_result"
        }
      ],
      "source": [
        "df.head()"
      ]
    },
    {
      "cell_type": "code",
      "execution_count": null,
      "metadata": {
        "id": "qiI43MvsllJj",
        "outputId": "78d4c269-ab68-448a-fbfe-ecc76c60e47b"
      },
      "outputs": [
        {
          "data": {
            "image/png": "[encoded data removed]",
            "text/plain": [
              "<Figure size 432x288 with 1 Axes>"
            ]
          },
          "metadata": {},
          "output_type": "display_data"
        }
      ],
      "source": [
        "# target 분포\n",
        "s = df['Sentiment'].value_counts().plot(kind='pie', autopct='%1.1f%%', startangle=90, fontsize=14, colors=['#72EEA4', '#F37D67']);\n",
        "s.set_ylabel('');\n",
        "s.set_title('Before Undersampling', fontsize=20);"
      ]
    },
    {
      "cell_type": "code",
      "execution_count": null,
      "metadata": {
        "id": "CQvWkluCllJj"
      },
      "outputs": [],
      "source": [
        "# 11. 리뷰 전처리 함수 생성\n",
        "def preprocess_data(text):\n",
        "    \n",
        "    text = re.sub(r'[0-9]+', '', str(text))   # 숫자 삭제\n",
        "    text = re.sub(r'[^\\w\\s]', '', str(text))   # 구두점 삭제\n",
        "    text = \" \".join(x.lower() for x in text.split())  # 소문자로 변환\n",
        "    text = re.sub(r'https?://\\S+|www\\.\\S+', '', text)  # urls 삭제\n",
        "    text = re.sub(r'<.*?>', '', text) # html 삭제\n",
        "    emoji_pattern = re.compile(\"[\"\n",
        "                           u\"\\U0001F600-\\U0001F64F\"  # 이모지 삭제\n",
        "                           u\"\\U0001F300-\\U0001F5FF\"  \n",
        "                           u\"\\U0001F680-\\U0001F6FF\"  \n",
        "                           u\"\\U0001F1E0-\\U0001F1FF\"  \n",
        "                           u\"\\U00002702-\\U000027B0\"\n",
        "                           u\"\\U000024C2-\\U0001F251\"\n",
        "                           \"]+\", flags=re.UNICODE)\n",
        "    text = emoji_pattern.sub(r'', text)\n",
        "    text = \" \".join(x for x in text.split() if x not in StopWords.words('english'))\n",
        "    return text"
      ]
    },
    {
      "cell_type": "code",
      "execution_count": null,
      "metadata": {
        "id": "-B_wqxESllJk"
      },
      "outputs": [],
      "source": [
        "# 12. Preprocessed_reviews 새로 생성(리뷰 전처리 함수 이용)\n",
        "df[\"Preprocessed_reviews\"] = df[\"Review\"].apply(lambda x: preprocess_data(x))"
      ]
    },
    {
      "cell_type": "code",
      "execution_count": null,
      "metadata": {
        "id": "GsHrs0-qllJl"
      },
      "outputs": [],
      "source": [
        "# 13. Reviews의 전체를 문자열 하나로 저장\n",
        "all_text = \" \".join(list(df[\"Preprocessed_reviews\"]))"
      ]
    },
    {
      "cell_type": "code",
      "execution_count": null,
      "metadata": {
        "id": "7UvBd9P7llJl"
      },
      "outputs": [],
      "source": [
        "# 14. all_text를 공백으로 나누고 시리즈 형태로 저장(이러면 빈도수 카운트하기 좋음)\n",
        "words = pd.Series(all_text.split(\" \"))"
      ]
    },
    {
      "cell_type": "code",
      "execution_count": null,
      "metadata": {
        "id": "hA2wwUg6llJm"
      },
      "outputs": [],
      "source": [
        "# 15. words에서 가장 많은 단어 상위 20개 고른다.(그거 뭐지 그 많은거 삭제하는 그거 그걸 위한것)\n",
        "frequent_words = words.value_counts()[:20]"
      ]
    },
    {
      "cell_type": "code",
      "execution_count": null,
      "metadata": {
        "id": "t5t3esDBllJm"
      },
      "outputs": [],
      "source": [
        "# 16. Preprocessed_reviews에 frequent_words 중 하나라도 포함되어 있으면 삭제하고 문자열 하나로 만든다.\n",
        "df[\"Preprocessed_reviews\"] = df[\"Preprocessed_reviews\"].apply(lambda x: \" \".join([word for word in str(x).split() if word not in frequent_words]))"
      ]
    },
    {
      "cell_type": "code",
      "execution_count": null,
      "metadata": {
        "id": "SLoA_lg8llJm"
      },
      "outputs": [],
      "source": [
        "# 17. Sentiment 인코더(1: pos, 0: neg)\n",
        "le = LabelEncoder()\n",
        "df['Sentiment'] = le.fit_transform(df['Sentiment'])"
      ]
    },
    {
      "cell_type": "code",
      "execution_count": null,
      "metadata": {
        "id": "0c3jMIg8llJn"
      },
      "outputs": [],
      "source": [
        "# 18. train, test, val 나누기\n",
        "xtrain, xtest, ytrain, ytest = train_test_split(df['Review'], df['Sentiment'], \n",
        "                                                  stratify=df['Sentiment'], \n",
        "                                                  random_state=42, \n",
        "                                                  test_size=0.2, shuffle=True)\n",
        "\n",
        "xtrain, xval, ytrain, yval = train_test_split(xtrain, ytrain, \n",
        "                                                  stratify=ytrain, \n",
        "                                                  random_state=42, \n",
        "                                                  test_size=0.1, shuffle=True)"
      ]
    },
    {
      "cell_type": "code",
      "execution_count": null,
      "metadata": {
        "id": "kutrZkWHllJn"
      },
      "outputs": [],
      "source": [
        "# 19. TF-IDF 으로 벡터로 바꿈\n",
        "tfv = TfidfVectorizer(min_df=3,  max_features=None, decode_error = \"replace\", preprocessor = preprocess_data,\n",
        "            strip_accents='unicode', analyzer='word',token_pattern=r'\\w{1,}',\n",
        "            ngram_range=(1, 3), use_idf=1,smooth_idf=1,sublinear_tf=1,\n",
        "            stop_words = 'english')\n",
        "\n",
        "tfv.fit(list(xtrain))\n",
        "\n",
        "xtrain_tfv = tfv.transform(xtrain)\n",
        "xval_tfv = tfv.transform(xval)"
      ]
    },
    {
      "cell_type": "code",
      "execution_count": null,
      "metadata": {
        "id": "SygqP9jsllJn"
      },
      "outputs": [],
      "source": [
        "# 20. RandomUndersampling\n",
        "Xtrain_samp, ytrain_samp = RandomUnderSampler(random_state=42).fit_resample(xtrain_tfv, ytrain)"
      ]
    },
    {
      "cell_type": "code",
      "execution_count": null,
      "metadata": {
        "id": "aVP8HmHallJo",
        "outputId": "d84479dc-1a2a-413c-aa3d-73edc1da6b27"
      },
      "outputs": [
        {
          "data": {
            "image/png": "[encoded data removed]",
            "text/plain": [
              "<Figure size 432x288 with 1 Axes>"
            ]
          },
          "metadata": {},
          "output_type": "display_data"
        }
      ],
      "source": [
        "# 타겟 분포\n",
        "s = ytrain_samp.replace({1:'positive', 0:'negative'}).value_counts().plot(kind='pie', autopct='%1.1f%%', startangle=90, fontsize=14, colors=['#72EEA4', '#F37D67'])\n",
        "# s = ytrain_samp.value_counts().plot(kind='pie', autopct='%1.1f%%', startangle=90, fontsize=14, colors=['#72EEA4', '#F37D67']);\n",
        "s.set_ylabel('');\n",
        "s.set_title('After Undersampling', fontsize=20);"
      ]
    },
    {
      "cell_type": "code",
      "execution_count": null,
      "metadata": {
        "id": "tGuDIaFsllJo",
        "outputId": "534ed43e-0a6d-469b-e280-d2a09189ab8f"
      },
      "outputs": [
        {
          "name": "stdout",
          "output_type": "stream",
          "text": [
            "              precision    recall  f1-score   support\n",
            "\n",
            "           0       0.13      0.82      0.23        17\n",
            "           1       0.99      0.86      0.92       647\n",
            "\n",
            "    accuracy                           0.86       664\n",
            "   macro avg       0.56      0.84      0.57       664\n",
            "weighted avg       0.97      0.86      0.90       664\n",
            "\n",
            "accuracy: 0.857\n",
            "logloss: 0.338 \n"
          ]
        }
      ],
      "source": [
        "# 22. xgb 모델\n",
        "xgb = XGBClassifier()\n",
        "xgb.fit(Xtrain_samp, ytrain_samp)\n",
        "\n",
        "ypred_xg = xgb.predict(xval_tfv)\n",
        "print(classification_report(yval, ypred_xg))\n",
        "print(\"accuracy:\", accuracy_score(yval , ypred_xg).round(3))\n",
        "\n",
        "predictions = xgb.predict_proba(xval_tfv)\n",
        "print(\"logloss: %0.3f \" % log_loss(yval, predictions))"
      ]
    },
    {
      "cell_type": "code",
      "execution_count": null,
      "metadata": {
        "id": "jx4x74tEllJo",
        "outputId": "c1c40da4-5b14-4b27-b8cd-c5aee664849d"
      },
      "outputs": [
        {
          "name": "stdout",
          "output_type": "stream",
          "text": [
            "              precision    recall  f1-score   support\n",
            "\n",
            "           0       0.18      1.00      0.31        17\n",
            "           1       1.00      0.88      0.94       647\n",
            "\n",
            "    accuracy                           0.88       664\n",
            "   macro avg       0.59      0.94      0.62       664\n",
            "weighted avg       0.98      0.88      0.92       664\n",
            "\n",
            "accuracy: 0.884\n",
            "logloss: 0.479 \n"
          ]
        }
      ],
      "source": [
        "# 23. MNB 모델\n",
        "MNB = MultinomialNB()\n",
        "MNB.fit(Xtrain_samp, ytrain_samp)\n",
        "\n",
        "ypred_xg = MNB.predict(xval_tfv)\n",
        "print(classification_report(yval, ypred_xg))\n",
        "print(\"accuracy:\", accuracy_score(yval , ypred_xg).round(3))\n",
        "\n",
        "predictions = MNB.predict_proba(xval_tfv)\n",
        "print (\"logloss: %0.3f \" % log_loss(yval, predictions))"
      ]
    },
    {
      "cell_type": "code",
      "execution_count": null,
      "metadata": {
        "id": "QbPnc3xcllJo",
        "outputId": "0986febf-a591-455c-e93a-f01493787b46"
      },
      "outputs": [
        {
          "name": "stdout",
          "output_type": "stream",
          "text": [
            "              precision    recall  f1-score   support\n",
            "\n",
            "           0       0.43      0.94      0.59        17\n",
            "           1       1.00      0.97      0.98       647\n",
            "\n",
            "    accuracy                           0.97       664\n",
            "   macro avg       0.72      0.95      0.79       664\n",
            "weighted avg       0.98      0.97      0.97       664\n",
            "\n",
            "accuracy: 0.967\n",
            "logloss: 0.123 \n"
          ]
        }
      ],
      "source": [
        "# 24. svc 모델\n",
        "svc = SVC(kernel='linear', probability=True)\n",
        "svc.fit(Xtrain_samp, ytrain_samp)\n",
        "\n",
        "ypred_xg = svc.predict(xval_tfv)\n",
        "print(classification_report(yval, ypred_xg))\n",
        "print(\"accuracy:\", accuracy_score(yval , ypred_xg).round(3))\n",
        "\n",
        "predictions = svc.predict_proba(xval_tfv)\n",
        "print (\"logloss: %0.3f \" % log_loss(yval, predictions))\n"
      ]
    },
    {
      "cell_type": "code",
      "execution_count": null,
      "metadata": {
        "id": "LuN-Ck-3llJp",
        "outputId": "84566757-3ef4-4294-c1da-132153efb3f2"
      },
      "outputs": [
        {
          "name": "stdout",
          "output_type": "stream",
          "text": [
            "              precision    recall  f1-score   support\n",
            "\n",
            "           0       0.10      0.88      0.18        17\n",
            "           1       1.00      0.79      0.88       647\n",
            "\n",
            "    accuracy                           0.79       664\n",
            "   macro avg       0.55      0.83      0.53       664\n",
            "weighted avg       0.97      0.79      0.86       664\n",
            "\n",
            "accuracy: 0.788\n",
            "logloss: 7.334 \n"
          ]
        }
      ],
      "source": [
        "# 25. decision tree 모델\n",
        "dec_tree = DecisionTreeClassifier()\n",
        "dec_tree.fit(Xtrain_samp, ytrain_samp)\n",
        "\n",
        "ypred_xg = dec_tree.predict(xval_tfv)\n",
        "print(classification_report(yval, ypred_xg))\n",
        "print(\"accuracy:\", accuracy_score(yval , ypred_xg).round(3))\n",
        "\n",
        "predictions = dec_tree.predict_proba(xval_tfv)\n",
        "print (\"logloss: %0.3f \" % log_loss(yval, predictions))"
      ]
    },
    {
      "cell_type": "code",
      "execution_count": null,
      "metadata": {
        "id": "WLb9ADiillJp",
        "outputId": "7725c6d5-fcc0-4381-c2b0-b7801eb6d2d3"
      },
      "outputs": [
        {
          "name": "stdout",
          "output_type": "stream",
          "text": [
            "              precision    recall  f1-score   support\n",
            "\n",
            "           0       0.44      0.94      0.60        17\n",
            "           1       1.00      0.97      0.98       647\n",
            "\n",
            "    accuracy                           0.97       664\n",
            "   macro avg       0.72      0.96      0.79       664\n",
            "weighted avg       0.98      0.97      0.97       664\n",
            "\n",
            "accuracy: 0.968\n",
            "logloss: 0.481 \n"
          ]
        }
      ],
      "source": [
        "# 26. logistic regression 모델\n",
        "log_reg = LogisticRegression()\n",
        "log_reg.fit(Xtrain_samp,ytrain_samp)\n",
        "\n",
        "ypred_xg = log_reg.predict(xval_tfv)\n",
        "print(classification_report(yval, ypred_xg))\n",
        "print(\"accuracy:\", accuracy_score(yval , ypred_xg).round(3))\n",
        "\n",
        "predictions = log_reg.predict_proba(xval_tfv)\n",
        "print (\"logloss: %0.3f \" % log_loss(yval, predictions))"
      ]
    },
    {
      "cell_type": "code",
      "execution_count": null,
      "metadata": {
        "id": "zWcXe7FJllJp",
        "outputId": "4ddae634-a0b0-450a-e6d2-8759c70e5c87"
      },
      "outputs": [
        {
          "name": "stdout",
          "output_type": "stream",
          "text": [
            "              precision    recall  f1-score   support\n",
            "\n",
            "           0       0.38      0.94      0.54        17\n",
            "           1       1.00      0.96      0.98       647\n",
            "\n",
            "    accuracy                           0.96       664\n",
            "   macro avg       0.69      0.95      0.76       664\n",
            "weighted avg       0.98      0.96      0.97       664\n",
            "\n",
            "accuracy: 0.959\n",
            "logloss: 0.212 \n"
          ]
        }
      ],
      "source": [
        "# 27. SGDC 모델\n",
        "SGDC = SGDClassifier(loss= 'log')\n",
        "SGDC.fit(Xtrain_samp, ytrain_samp)\n",
        "\n",
        "ypred_xg = SGDC.predict(xval_tfv)\n",
        "print(classification_report(yval, ypred_xg))\n",
        "print(\"accuracy:\", accuracy_score(yval , ypred_xg).round(3))\n",
        "\n",
        "predictions = SGDC.predict_proba(xval_tfv)\n",
        "print (\"logloss: %0.3f \" % log_loss(yval, predictions))"
      ]
    },
    {
      "cell_type": "code",
      "execution_count": null,
      "metadata": {
        "id": "kBxnd-QMllJq"
      },
      "outputs": [],
      "source": [
        "# 28. 모델 튜닝 학습\n",
        "from sklearn.model_selection import GridSearchCV\n",
        "params = {'C': [1,4,8,16,32], 'kernel' : ['linear','rbf']}\n",
        "svc = SVC()\n",
        "svc_grid = GridSearchCV(svc,params, cv = 5)\n",
        "svc_grid.fit(Xtrain_samp,ytrain_samp)"
      ]
    },
    {
      "cell_type": "code",
      "execution_count": null,
      "metadata": {
        "id": "vXY2T0FTllJq",
        "outputId": "bc0849df-5dcf-4b2b-e68b-ad189d276a05"
      },
      "outputs": [
        {
          "name": "stdout",
          "output_type": "stream",
          "text": [
            "              precision    recall  f1-score   support\n",
            "\n",
            "           0       0.43      0.98      0.60        43\n",
            "           1       1.00      0.97      0.98      1616\n",
            "\n",
            "    accuracy                           0.97      1659\n",
            "   macro avg       0.71      0.97      0.79      1659\n",
            "weighted avg       0.98      0.97      0.97      1659\n",
            "\n",
            "accuracy: 0.966\n",
            "logloss: 0.126 \n"
          ]
        }
      ],
      "source": [
        "# 28. 최종 모델 학습 : svc 모델\n",
        "xtest_tfv = tfv.transform(xtest) # TF-IDF\n",
        "\n",
        "ypred_xg = svc_grid.predict(xtest_tfv)\n",
        "print(classification_report(ytest, ypred_xg))\n",
        "print(\"accuracy:\", accuracy_score(ytest , ypred_xg).round(3))\n",
        "\n",
        "predictions = svc_grid.predict_proba(xtest_tfv)\n",
        "print (\"logloss: %0.3f \" % log_loss(ytest, predictions))"
      ]
    }
  ],
  "metadata": {
    "kernelspec": {
      "display_name": "base",
      "language": "python",
      "name": "python3"
    },
    "language_info": {
      "codemirror_mode": {
        "name": "ipython",
        "version": 3
      },
      "file_extension": ".py",
      "mimetype": "text/x-python",
      "name": "python",
      "nbconvert_exporter": "python",
      "pygments_lexer": "ipython3",
      "version": "3.9.12"
    },
    "orig_nbformat": 4,
    "colab": {
      "provenance": [],
      "include_colab_link": true
    }
  },
  "nbformat": 4,
  "nbformat_minor": 0
}