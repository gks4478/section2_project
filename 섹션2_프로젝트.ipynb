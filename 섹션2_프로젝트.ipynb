{
  "nbformat": 4,
  "nbformat_minor": 0,
  "metadata": {
    "colab": {
      "provenance": [],
      "authorship_tag": "ABX9TyNspdQiCf8BZTAANSd2ppdy",
      "include_colab_link": true
    },
    "kernelspec": {
      "name": "python3",
      "display_name": "Python 3"
    },
    "language_info": {
      "name": "python"
    }
  },
  "cells": [
    {
      "cell_type": "markdown",
      "metadata": {
        "id": "view-in-github",
        "colab_type": "text"
      },
      "source": [
        "<a href=\"https://colab.research.google.com/github/gks4478/section2_project/blob/main/%EC%84%B9%EC%85%982_%ED%94%84%EB%A1%9C%EC%A0%9D%ED%8A%B8.ipynb\" target=\"_parent\"><img src=\"https://colab.research.google.com/assets/colab-badge.svg\" alt=\"Open In Colab\"/></a>"
      ]
    },
    {
      "cell_type": "markdown",
      "source": [
        "## 섹션2 프로젝트\n",
        "호텔 리뷰를 이용해서 앱 리뷰처럼 분석해서 앱의 평접을 높이는데 기여한다."
      ],
      "metadata": {
        "id": "rgw5bxidAMc7"
      }
    },
    {
      "cell_type": "code",
      "source": [
        "# https://www.kaggle.com/datasets/ruchibhadauria/hotel-reviews-from-tripadvisor?select=mussorie_reviews.csv\n",
        "# 캐글에서 가져온 데이터 셋\n",
        "import pandas as pd\n",
        "df = pd.read_csv('mussorie_reviews.csv')"
      ],
      "metadata": {
        "id": "d4_a5Q1twPkj"
      },
      "execution_count": null,
      "outputs": []
    },
    {
      "cell_type": "markdown",
      "source": [
        "## column 설명\n",
        "1. Review : 사용자가 남긴 리뷰\n",
        "2. Date of stay : 사용 일자\n",
        "3. Rating : 별점점"
      ],
      "metadata": {
        "id": "LYUNQdCRAh1W"
      }
    },
    {
      "cell_type": "code",
      "source": [
        "# 결측치 삭제\n",
        "df.dropna(inplace = True)\n",
        "# 중복값 삭제\n",
        "df.drop_duplicates(inplace = True)"
      ],
      "metadata": {
        "id": "3QRbXHqY_vDP"
      },
      "execution_count": null,
      "outputs": []
    },
    {
      "cell_type": "code",
      "source": [
        "# Rating의 평점만 가져오기\n",
        "import re\n",
        "df['Rating'] = df['Rating'].apply(lambda x: re.findall('\\d', x)[0])"
      ],
      "metadata": {
        "id": "Lk1rIkfzGWl0"
      },
      "execution_count": null,
      "outputs": []
    },
    {
      "cell_type": "code",
      "source": [
        "# Sentiment에 positive, negative 설정하기 : 5점은 positive, 나머지는 negative로 설정하기\n",
        "df['Sentiment'] = df['Rating'].apply(lambda x: 'positive' if x == '5' else 'negative')"
      ],
      "metadata": {
        "id": "VTnn-8FgH_Pm"
      },
      "execution_count": null,
      "outputs": []
    },
    {
      "cell_type": "code",
      "source": [
        "# Data fo stay: 삭제하고 month 와 year를 리스트에 넣는다.\n",
        "df['Date of stay'] = df['Date of stay'].apply(lambda x: x.replace('Date of stay:', '').split())\n",
        "\n",
        "# Month와 Year를 분리해서 생성하기\n",
        "df['Month'] = df['Date of stay'].apply(lambda x: x[0])\n",
        "df['Year'] = df['Date of stay'].apply(lambda x: int(x[1]))"
      ],
      "metadata": {
        "id": "6JPlQSRXLbpa"
      },
      "execution_count": null,
      "outputs": []
    },
    {
      "cell_type": "code",
      "source": [
        "# 2018년 미만인것은 삭제하기\n",
        "# 2017년 미만은 삭제한다.\n",
        "# 2017~2021년까지 남아있다.\n",
        "df_17 = df[df.Year >= 2017]"
      ],
      "metadata": {
        "id": "1ee_-t8DEFvL"
      },
      "execution_count": null,
      "outputs": []
    },
    {
      "cell_type": "code",
      "source": [
        "# Review를 Positive와 Negative로 구분해서 각각 어떤 키워드가 있는지 확인한다.\n",
        "# nlt를 사용해서 Review의 주요 키워드를 가져오도록 한다.\n",
        "# nltk를 사용을 위한 설치\n",
        "\n",
        "!pip install nltk"
      ],
      "metadata": {
        "colab": {
          "base_uri": "https://localhost:8080/"
        },
        "id": "pQ4z9Z8VVWql",
        "outputId": "1c2e38dd-64e1-4067-96c2-5bb878a48d7d"
      },
      "execution_count": null,
      "outputs": [
        {
          "output_type": "stream",
          "name": "stdout",
          "text": [
            "Looking in indexes: https://pypi.org/simple, https://us-python.pkg.dev/colab-wheels/public/simple/\n",
            "Requirement already satisfied: nltk in /usr/local/lib/python3.9/dist-packages (3.8.1)\n",
            "Requirement already satisfied: click in /usr/local/lib/python3.9/dist-packages (from nltk) (8.1.3)\n",
            "Requirement already satisfied: regex>=2021.8.3 in /usr/local/lib/python3.9/dist-packages (from nltk) (2022.10.31)\n",
            "Requirement already satisfied: tqdm in /usr/local/lib/python3.9/dist-packages (from nltk) (4.65.0)\n",
            "Requirement already satisfied: joblib in /usr/local/lib/python3.9/dist-packages (from nltk) (1.1.1)\n"
          ]
        }
      ]
    },
    {
      "cell_type": "code",
      "source": [
        "# nltk 필요한 라이브러리 설치 \n",
        "import nltk\n",
        "nltk.download('treebank') # \n",
        "nltk.download('punkt')\n",
        "nltk.download('stopwords')\n",
        "\n",
        "# https://www.kaggle.com/code/ruchibhadauria/trip-advisor-reviews/notebook"
      ],
      "metadata": {
        "id": "VCqEF-ZLVtkf"
      },
      "execution_count": null,
      "outputs": []
    }
  ]
}