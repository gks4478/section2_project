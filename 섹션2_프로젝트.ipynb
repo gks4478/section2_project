{
  "cells": [
    {
      "cell_type": "markdown",
      "metadata": {
        "id": "view-in-github",
        "colab_type": "text"
      },
      "source": [
        "<a href=\"https://colab.research.google.com/github/gks4478/section2_project/blob/main/%EC%84%B9%EC%85%982_%ED%94%84%EB%A1%9C%EC%A0%9D%ED%8A%B8.ipynb\" target=\"_parent\"><img src=\"https://colab.research.google.com/assets/colab-badge.svg\" alt=\"Open In Colab\"/></a>"
      ]
    },
    {
      "cell_type": "markdown",
      "metadata": {
        "id": "z_EOmolUxkgM"
      },
      "source": [
        "0. 파일 불러오기"
      ]
    },
    {
      "cell_type": "code",
      "execution_count": null,
      "metadata": {
        "id": "J80TX7jYxkgQ"
      },
      "outputs": [],
      "source": [
        "import pandas as pd\n",
        "df = pd.read_csv('mussorie_reviews.csv')"
      ]
    },
    {
      "cell_type": "markdown",
      "metadata": {
        "id": "B4BY7I0wxkgS"
      },
      "source": [
        "1. 라이브러리 설치"
      ]
    },
    {
      "cell_type": "code",
      "execution_count": null,
      "metadata": {
        "id": "28IHGe4VxkgS",
        "outputId": "ac3025f2-bdc0-4c6e-994c-61a32ceb766f"
      },
      "outputs": [
        {
          "name": "stdout",
          "output_type": "stream",
          "text": [
            "Requirement already satisfied: nltk in c:\\users\\82109\\anaconda3\\lib\\site-packages (3.7)\n",
            "Requirement already satisfied: regex>=2021.8.3 in c:\\users\\82109\\anaconda3\\lib\\site-packages (from nltk) (2022.3.15)\n",
            "Requirement already satisfied: tqdm in c:\\users\\82109\\anaconda3\\lib\\site-packages (from nltk) (4.64.0)\n",
            "Requirement already satisfied: joblib in c:\\users\\82109\\anaconda3\\lib\\site-packages (from nltk) (1.2.0)\n",
            "Requirement already satisfied: click in c:\\users\\82109\\anaconda3\\lib\\site-packages (from nltk) (8.0.4)\n",
            "Requirement already satisfied: colorama in c:\\users\\82109\\anaconda3\\lib\\site-packages (from click->nltk) (0.4.4)\n",
            "Note: you may need to restart the kernel to use updated packages.\n"
          ]
        }
      ],
      "source": [
        "# nltk 설치\n",
        "%pip install nltk"
      ]
    },
    {
      "cell_type": "code",
      "execution_count": null,
      "metadata": {
        "id": "ddN0_R5exkgT",
        "outputId": "b9138f21-a0ed-46f5-a55a-2fdbb3e2ab5e"
      },
      "outputs": [
        {
          "name": "stdout",
          "output_type": "stream",
          "text": [
            "Requirement already satisfied: wordcloud in c:\\users\\82109\\anaconda3\\lib\\site-packages (1.8.2.2)\n",
            "Requirement already satisfied: pillow in c:\\users\\82109\\anaconda3\\lib\\site-packages (from wordcloud) (9.0.1)\n",
            "Requirement already satisfied: matplotlib in c:\\users\\82109\\anaconda3\\lib\\site-packages (from wordcloud) (3.5.1)\n",
            "Requirement already satisfied: numpy>=1.6.1 in c:\\users\\82109\\anaconda3\\lib\\site-packages (from wordcloud) (1.21.5)\n",
            "Requirement already satisfied: fonttools>=4.22.0 in c:\\users\\82109\\anaconda3\\lib\\site-packages (from matplotlib->wordcloud) (4.25.0)\n",
            "Requirement already satisfied: pyparsing>=2.2.1 in c:\\users\\82109\\anaconda3\\lib\\site-packages (from matplotlib->wordcloud) (3.0.4)\n",
            "Requirement already satisfied: python-dateutil>=2.7 in c:\\users\\82109\\anaconda3\\lib\\site-packages (from matplotlib->wordcloud) (2.8.2)\n",
            "Requirement already satisfied: kiwisolver>=1.0.1 in c:\\users\\82109\\anaconda3\\lib\\site-packages (from matplotlib->wordcloud) (1.3.2)\n",
            "Requirement already satisfied: packaging>=20.0 in c:\\users\\82109\\anaconda3\\lib\\site-packages (from matplotlib->wordcloud) (21.3)\n",
            "Requirement already satisfied: cycler>=0.10 in c:\\users\\82109\\anaconda3\\lib\\site-packages (from matplotlib->wordcloud) (0.11.0)\n",
            "Requirement already satisfied: six>=1.5 in c:\\users\\82109\\anaconda3\\lib\\site-packages (from python-dateutil>=2.7->matplotlib->wordcloud) (1.16.0)\n",
            "Note: you may need to restart the kernel to use updated packages.\n"
          ]
        }
      ],
      "source": [
        "%pip install wordcloud"
      ]
    },
    {
      "cell_type": "code",
      "execution_count": null,
      "metadata": {
        "id": "9LNbcrAbxkgU",
        "outputId": "cd677f02-8cf1-4e3b-a9f5-a45568a79790"
      },
      "outputs": [
        {
          "name": "stdout",
          "output_type": "stream",
          "text": [
            "Collecting xgboost\n",
            "  Downloading xgboost-1.7.5-py3-none-win_amd64.whl (70.9 MB)\n",
            "Requirement already satisfied: scipy in c:\\users\\82109\\anaconda3\\lib\\site-packages (from xgboost) (1.7.3)\n",
            "Requirement already satisfied: numpy in c:\\users\\82109\\anaconda3\\lib\\site-packages (from xgboost) (1.21.5)\n",
            "Installing collected packages: xgboost\n",
            "Successfully installed xgboost-1.7.5\n",
            "Note: you may need to restart the kernel to use updated packages.\n"
          ]
        }
      ],
      "source": [
        "%pip install xgboost"
      ]
    },
    {
      "cell_type": "code",
      "execution_count": null,
      "metadata": {
        "id": "zvCR_7bbxkgU"
      },
      "outputs": [],
      "source": [
        "import numpy as np\n",
        "import pandas as pd\n",
        "import matplotlib.pyplot as plt\n",
        "import seaborn as sns\n",
        "from collections import defaultdict\n",
        "import string\n",
        "import re\n",
        "import nltk\n",
        "from nltk.corpus import stopwords as StopWords\n",
        "from PIL import Image\n",
        "from wordcloud import WordCloud, STOPWORDS, ImageColorGenerator\n",
        "from sklearn.preprocessing import LabelEncoder\n",
        "from sklearn.model_selection import train_test_split\n",
        "from sklearn.feature_extraction.text import TfidfVectorizer, CountVectorizer\n",
        "from sklearn.linear_model import LogisticRegression\n",
        "from sklearn.metrics import classification_report, log_loss\n",
        "from xgboost import XGBClassifier\n",
        "import warnings\n",
        "warnings.filterwarnings(\"ignore\")"
      ]
    },
    {
      "cell_type": "code",
      "execution_count": null,
      "metadata": {
        "id": "98_2r3-_xkgV",
        "outputId": "f4a3d86e-a4da-4339-b786-e3306d340980"
      },
      "outputs": [
        {
          "name": "stderr",
          "output_type": "stream",
          "text": [
            "[nltk_data] Downloading package treebank to\n",
            "[nltk_data]     C:\\Users\\82109\\AppData\\Roaming\\nltk_data...\n",
            "[nltk_data]   Package treebank is already up-to-date!\n",
            "[nltk_data] Downloading package punkt to\n",
            "[nltk_data]     C:\\Users\\82109\\AppData\\Roaming\\nltk_data...\n",
            "[nltk_data]   Package punkt is already up-to-date!\n",
            "[nltk_data] Downloading package stopwords to\n",
            "[nltk_data]     C:\\Users\\82109\\AppData\\Roaming\\nltk_data...\n",
            "[nltk_data]   Package stopwords is already up-to-date!\n"
          ]
        },
        {
          "data": {
            "text/plain": [
              "True"
            ]
          },
          "execution_count": 143,
          "metadata": {},
          "output_type": "execute_result"
        }
      ],
      "source": [
        "# nltk 다운로드\n",
        "nltk.download('treebank')\n",
        "nltk.download('punkt')\n",
        "nltk.download('stopwords')"
      ]
    },
    {
      "cell_type": "markdown",
      "metadata": {
        "id": "GXi_8yd7xkgV"
      },
      "source": [
        "2. 전처리, 특성공학"
      ]
    },
    {
      "cell_type": "code",
      "execution_count": null,
      "metadata": {
        "id": "9A_W5FkcxkgW"
      },
      "outputs": [],
      "source": [
        "# 1. 결측치 삭제\n",
        "df.dropna(inplace = True)"
      ]
    },
    {
      "cell_type": "code",
      "execution_count": null,
      "metadata": {
        "id": "XnMNw-JZxkgW"
      },
      "outputs": [],
      "source": [
        "# 2. 중복값 삭제\n",
        "df.drop_duplicates(inplace = True)"
      ]
    },
    {
      "cell_type": "code",
      "execution_count": null,
      "metadata": {
        "id": "6hDrqnj9xkgW"
      },
      "outputs": [],
      "source": [
        "# 3. Rating에서 평점만 가져오기\n",
        "df['Rating'] = df['Rating'].apply(lambda x: re.findall('\\d', x)[0])"
      ]
    },
    {
      "cell_type": "code",
      "execution_count": null,
      "metadata": {
        "id": "yMS-7JpYxkgX"
      },
      "outputs": [],
      "source": [
        "# 4. 평점의 5점, 4점은 1(positive) 나머지는 0(negative)로 설정한다.\n",
        "df[\"Sentiment\"] = df[\"Rating\"].map({\"5\":\"Positive\", \"4\":\"Positive\", \"3\":\"Neutral\", \"2\":\"Negative\", \"1\":\"Negative\"})"
      ]
    },
    {
      "cell_type": "code",
      "execution_count": null,
      "metadata": {
        "id": "Ebxy2QijxkgX"
      },
      "outputs": [],
      "source": [
        "# 5. year\n",
        "df[\"Year of stay\"] = df[\"Date of stay\"].apply(lambda x: \"\".join(re.findall(\"\\d\\d\\d\\d\", x)))"
      ]
    },
    {
      "cell_type": "code",
      "execution_count": null,
      "metadata": {
        "id": "nDMzryWpxkgX"
      },
      "outputs": [],
      "source": [
        "# 6. month\n",
        "df[\"Month of stay\"] = df[\"Date of stay\"].apply(lambda x: \"\".join(re.findall(r'(Jan(?:uary)?|Feb(?:ruary)?|Mar(?:ch)?|Apr(?:il)?|May|Jun(?:e)?|Jul(?:y)?|Aug(?:ust)?|Sep(?:tember)?|Oct(?:ober)?|Nov(?:ember)?|Dec(?:ember)?)', x)))"
      ]
    },
    {
      "cell_type": "code",
      "execution_count": null,
      "metadata": {
        "id": "j4RecmJvxkgX"
      },
      "outputs": [],
      "source": [
        "# 7. 2018년 미만 삭제\n",
        "df.drop(df[df[\"Year of stay\"] < '2018'].index, axis=0, inplace=True)"
      ]
    },
    {
      "cell_type": "code",
      "execution_count": null,
      "metadata": {
        "id": "_gw5eHc2xkgY"
      },
      "outputs": [],
      "source": [
        "# 8. Neutral 삭제\n",
        "df.drop(df[df[\"Sentiment\"] == \"Neutral\"].index, axis=0, inplace=True,)"
      ]
    },
    {
      "cell_type": "code",
      "execution_count": null,
      "metadata": {
        "id": "9CDwJV6gxkgY"
      },
      "outputs": [],
      "source": [
        "# 9. 인덱스 리셋\n",
        "df = df.reset_index()\n",
        "df = df.drop('index', axis = 1)"
      ]
    },
    {
      "cell_type": "code",
      "execution_count": null,
      "metadata": {
        "id": "vLFAyejbxkgY",
        "outputId": "c52b3043-a945-4de9-ad5e-d8fc6012fe01"
      },
      "outputs": [
        {
          "data": {
            "text/html": [
              "<div>\n",
              "<style scoped>\n",
              "    .dataframe tbody tr th:only-of-type {\n",
              "        vertical-align: middle;\n",
              "    }\n",
              "\n",
              "    .dataframe tbody tr th {\n",
              "        vertical-align: top;\n",
              "    }\n",
              "\n",
              "    .dataframe thead th {\n",
              "        text-align: right;\n",
              "    }\n",
              "</style>\n",
              "<table border=\"1\" class=\"dataframe\">\n",
              "  <thead>\n",
              "    <tr style=\"text-align: right;\">\n",
              "      <th></th>\n",
              "      <th>Review</th>\n",
              "      <th>Date of stay</th>\n",
              "      <th>Rating</th>\n",
              "      <th>Sentiment</th>\n",
              "      <th>Year of stay</th>\n",
              "      <th>Month of stay</th>\n",
              "    </tr>\n",
              "  </thead>\n",
              "  <tbody>\n",
              "    <tr>\n",
              "      <th>5085</th>\n",
              "      <td>This hotal is beautiful..we stay here..our sta...</td>\n",
              "      <td>Date of stay: April 2021</td>\n",
              "      <td>5</td>\n",
              "      <td>Positive</td>\n",
              "      <td>2021</td>\n",
              "      <td>April</td>\n",
              "    </tr>\n",
              "    <tr>\n",
              "      <th>1588</th>\n",
              "      <td>This was my first time to mussoorrie and the t...</td>\n",
              "      <td>Date of stay: May 2019</td>\n",
              "      <td>5</td>\n",
              "      <td>Positive</td>\n",
              "      <td>2019</td>\n",
              "      <td>May</td>\n",
              "    </tr>\n",
              "    <tr>\n",
              "      <th>5058</th>\n",
              "      <td>It was torturous, landlines don’t work, so man...</td>\n",
              "      <td>Date of stay: July 2021</td>\n",
              "      <td>1</td>\n",
              "      <td>Negative</td>\n",
              "      <td>2021</td>\n",
              "      <td>July</td>\n",
              "    </tr>\n",
              "    <tr>\n",
              "      <th>7774</th>\n",
              "      <td>Nice hotel..!!! It was fun to stay here .Servi...</td>\n",
              "      <td>Date of stay: November 2018</td>\n",
              "      <td>4</td>\n",
              "      <td>Positive</td>\n",
              "      <td>2018</td>\n",
              "      <td>November</td>\n",
              "    </tr>\n",
              "    <tr>\n",
              "      <th>7575</th>\n",
              "      <td>Location is nice, peaceful and easy approachab...</td>\n",
              "      <td>Date of stay: April 2019</td>\n",
              "      <td>5</td>\n",
              "      <td>Positive</td>\n",
              "      <td>2019</td>\n",
              "      <td>April</td>\n",
              "    </tr>\n",
              "    <tr>\n",
              "      <th>...</th>\n",
              "      <td>...</td>\n",
              "      <td>...</td>\n",
              "      <td>...</td>\n",
              "      <td>...</td>\n",
              "      <td>...</td>\n",
              "      <td>...</td>\n",
              "    </tr>\n",
              "    <tr>\n",
              "      <th>2665</th>\n",
              "      <td>Amazing property with amazing staff especially...</td>\n",
              "      <td>Date of stay: March 2018</td>\n",
              "      <td>5</td>\n",
              "      <td>Positive</td>\n",
              "      <td>2018</td>\n",
              "      <td>March</td>\n",
              "    </tr>\n",
              "    <tr>\n",
              "      <th>1833</th>\n",
              "      <td>Went for my first anniversary. Had earlier gon...</td>\n",
              "      <td>Date of stay: February 2019</td>\n",
              "      <td>5</td>\n",
              "      <td>Positive</td>\n",
              "      <td>2019</td>\n",
              "      <td>February</td>\n",
              "    </tr>\n",
              "    <tr>\n",
              "      <th>2311</th>\n",
              "      <td>We were here in the property for three nights ...</td>\n",
              "      <td>Date of stay: August 2018</td>\n",
              "      <td>5</td>\n",
              "      <td>Positive</td>\n",
              "      <td>2018</td>\n",
              "      <td>August</td>\n",
              "    </tr>\n",
              "    <tr>\n",
              "      <th>400</th>\n",
              "      <td>I don't have words to Express my immense grati...</td>\n",
              "      <td>Date of stay: February 2021</td>\n",
              "      <td>5</td>\n",
              "      <td>Positive</td>\n",
              "      <td>2021</td>\n",
              "      <td>February</td>\n",
              "    </tr>\n",
              "    <tr>\n",
              "      <th>3321</th>\n",
              "      <td>Very good view awesome food peaceful stay Dist...</td>\n",
              "      <td>Date of stay: November 2020</td>\n",
              "      <td>5</td>\n",
              "      <td>Positive</td>\n",
              "      <td>2020</td>\n",
              "      <td>November</td>\n",
              "    </tr>\n",
              "  </tbody>\n",
              "</table>\n",
              "<p>8293 rows × 6 columns</p>\n",
              "</div>"
            ],
            "text/plain": [
              "                                                 Review  \\\n",
              "5085  This hotal is beautiful..we stay here..our sta...   \n",
              "1588  This was my first time to mussoorrie and the t...   \n",
              "5058  It was torturous, landlines don’t work, so man...   \n",
              "7774  Nice hotel..!!! It was fun to stay here .Servi...   \n",
              "7575  Location is nice, peaceful and easy approachab...   \n",
              "...                                                 ...   \n",
              "2665  Amazing property with amazing staff especially...   \n",
              "1833  Went for my first anniversary. Had earlier gon...   \n",
              "2311  We were here in the property for three nights ...   \n",
              "400   I don't have words to Express my immense grati...   \n",
              "3321  Very good view awesome food peaceful stay Dist...   \n",
              "\n",
              "                     Date of stay Rating Sentiment Year of stay Month of stay  \n",
              "5085     Date of stay: April 2021      5  Positive         2021         April  \n",
              "1588       Date of stay: May 2019      5  Positive         2019           May  \n",
              "5058      Date of stay: July 2021      1  Negative         2021          July  \n",
              "7774  Date of stay: November 2018      4  Positive         2018      November  \n",
              "7575     Date of stay: April 2019      5  Positive         2019         April  \n",
              "...                           ...    ...       ...          ...           ...  \n",
              "2665     Date of stay: March 2018      5  Positive         2018         March  \n",
              "1833  Date of stay: February 2019      5  Positive         2019      February  \n",
              "2311    Date of stay: August 2018      5  Positive         2018        August  \n",
              "400   Date of stay: February 2021      5  Positive         2021      February  \n",
              "3321  Date of stay: November 2020      5  Positive         2020      November  \n",
              "\n",
              "[8293 rows x 6 columns]"
            ]
          },
          "execution_count": 153,
          "metadata": {},
          "output_type": "execute_result"
        }
      ],
      "source": [
        "# 10. 섞기\n",
        "df = df.sample(frac = 1)\n",
        "df"
      ]
    },
    {
      "cell_type": "code",
      "execution_count": null,
      "metadata": {
        "id": "rEiPLSjzxkgY"
      },
      "outputs": [],
      "source": [
        "# 11. 불필요한 컬럼 삭제 \n",
        "df.drop(['Date of stay', 'Rating'], axis=1, inplace=True)"
      ]
    },
    {
      "cell_type": "code",
      "execution_count": null,
      "metadata": {
        "id": "qgh2t4IfxkgZ"
      },
      "outputs": [],
      "source": [
        "# 12. review\n",
        "def preprocess_data(text):\n",
        "    \"\"\"\n",
        "    Returns text after removing numbers, punctuations, urls, emojis, html tags and lowercasing all the words in given text.\n",
        "    \"\"\"\n",
        "    text = re.sub(r'[0-9]+', '', str(text))   # removing numbers\n",
        "    text = re.sub(r'[^\\w\\s]', '', str(text))   # removing punctuations\n",
        "    text = \" \".join(x.lower() for x in text.split())  # lower casing the text\n",
        "    text = re.sub(r'https?://\\S+|www\\.\\S+', '', text)  # removing urls\n",
        "    text = re.sub(r'<.*?>', '', text) # removing html tags\n",
        "    emoji_pattern = re.compile(\"[\"\n",
        "                           u\"\\U0001F600-\\U0001F64F\"  # emoticons\n",
        "                           u\"\\U0001F300-\\U0001F5FF\"  # symbols & pictographs\n",
        "                           u\"\\U0001F680-\\U0001F6FF\"  # transport & map symbols\n",
        "                           u\"\\U0001F1E0-\\U0001F1FF\"  # flags (iOS)\n",
        "                           u\"\\U00002702-\\U000027B0\"\n",
        "                           u\"\\U000024C2-\\U0001F251\"\n",
        "                           \"]+\", flags=re.UNICODE)\n",
        "    text = emoji_pattern.sub(r'', text)\n",
        "    text = \" \".join(x for x in text.split() if x not in StopWords.words('english'))\n",
        "    return text"
      ]
    },
    {
      "cell_type": "code",
      "execution_count": null,
      "metadata": {
        "id": "wDMjgJXjxkgZ"
      },
      "outputs": [],
      "source": [
        "# 13. 리뷰 정제 \n",
        "df[\"Preprocessed_reviews\"] = df[\"Review\"].apply(lambda x: preprocess_data(x))"
      ]
    },
    {
      "cell_type": "code",
      "execution_count": null,
      "metadata": {
        "id": "WbsIIroVxkgZ",
        "outputId": "14213a4c-8390-4e05-e3fc-7b682648e6c8"
      },
      "outputs": [
        {
          "data": {
            "text/html": [
              "<div>\n",
              "<style scoped>\n",
              "    .dataframe tbody tr th:only-of-type {\n",
              "        vertical-align: middle;\n",
              "    }\n",
              "\n",
              "    .dataframe tbody tr th {\n",
              "        vertical-align: top;\n",
              "    }\n",
              "\n",
              "    .dataframe thead th {\n",
              "        text-align: right;\n",
              "    }\n",
              "</style>\n",
              "<table border=\"1\" class=\"dataframe\">\n",
              "  <thead>\n",
              "    <tr style=\"text-align: right;\">\n",
              "      <th></th>\n",
              "      <th>Review</th>\n",
              "      <th>Sentiment</th>\n",
              "      <th>Year of stay</th>\n",
              "      <th>Month of stay</th>\n",
              "      <th>Preprocessed_reviews</th>\n",
              "    </tr>\n",
              "  </thead>\n",
              "  <tbody>\n",
              "    <tr>\n",
              "      <th>5085</th>\n",
              "      <td>This hotal is beautiful..we stay here..our sta...</td>\n",
              "      <td>Positive</td>\n",
              "      <td>2021</td>\n",
              "      <td>April</td>\n",
              "      <td>hotal beautifulwe stay hereour stay awesome be...</td>\n",
              "    </tr>\n",
              "    <tr>\n",
              "      <th>1588</th>\n",
              "      <td>This was my first time to mussoorrie and the t...</td>\n",
              "      <td>Positive</td>\n",
              "      <td>2019</td>\n",
              "      <td>May</td>\n",
              "      <td>first time mussoorrie trip quite memory must s...</td>\n",
              "    </tr>\n",
              "    <tr>\n",
              "      <th>5058</th>\n",
              "      <td>It was torturous, landlines don’t work, so man...</td>\n",
              "      <td>Negative</td>\n",
              "      <td>2021</td>\n",
              "      <td>July</td>\n",
              "      <td>torturous landlines dont work many stairs cros...</td>\n",
              "    </tr>\n",
              "    <tr>\n",
              "      <th>7774</th>\n",
              "      <td>Nice hotel..!!! It was fun to stay here .Servi...</td>\n",
              "      <td>Positive</td>\n",
              "      <td>2018</td>\n",
              "      <td>November</td>\n",
              "      <td>nice hotel fun stay services great staff membe...</td>\n",
              "    </tr>\n",
              "    <tr>\n",
              "      <th>7575</th>\n",
              "      <td>Location is nice, peaceful and easy approachab...</td>\n",
              "      <td>Positive</td>\n",
              "      <td>2019</td>\n",
              "      <td>April</td>\n",
              "      <td>location nice peaceful easy approachable rooms...</td>\n",
              "    </tr>\n",
              "    <tr>\n",
              "      <th>...</th>\n",
              "      <td>...</td>\n",
              "      <td>...</td>\n",
              "      <td>...</td>\n",
              "      <td>...</td>\n",
              "      <td>...</td>\n",
              "    </tr>\n",
              "    <tr>\n",
              "      <th>2665</th>\n",
              "      <td>Amazing property with amazing staff especially...</td>\n",
              "      <td>Positive</td>\n",
              "      <td>2018</td>\n",
              "      <td>March</td>\n",
              "      <td>amazing property amazing staff especially saga...</td>\n",
              "    </tr>\n",
              "    <tr>\n",
              "      <th>1833</th>\n",
              "      <td>Went for my first anniversary. Had earlier gon...</td>\n",
              "      <td>Positive</td>\n",
              "      <td>2019</td>\n",
              "      <td>February</td>\n",
              "      <td>went first anniversary earlier gone sisters en...</td>\n",
              "    </tr>\n",
              "    <tr>\n",
              "      <th>2311</th>\n",
              "      <td>We were here in the property for three nights ...</td>\n",
              "      <td>Positive</td>\n",
              "      <td>2018</td>\n",
              "      <td>August</td>\n",
              "      <td>property three nights stay best would like spe...</td>\n",
              "    </tr>\n",
              "    <tr>\n",
              "      <th>400</th>\n",
              "      <td>I don't have words to Express my immense grati...</td>\n",
              "      <td>Positive</td>\n",
              "      <td>2021</td>\n",
              "      <td>February</td>\n",
              "      <td>dont words express immense gratitude imran ji ...</td>\n",
              "    </tr>\n",
              "    <tr>\n",
              "      <th>3321</th>\n",
              "      <td>Very good view awesome food peaceful stay Dist...</td>\n",
              "      <td>Positive</td>\n",
              "      <td>2020</td>\n",
              "      <td>November</td>\n",
              "      <td>good view awesome food peaceful stay distance ...</td>\n",
              "    </tr>\n",
              "  </tbody>\n",
              "</table>\n",
              "<p>8293 rows × 5 columns</p>\n",
              "</div>"
            ],
            "text/plain": [
              "                                                 Review Sentiment  \\\n",
              "5085  This hotal is beautiful..we stay here..our sta...  Positive   \n",
              "1588  This was my first time to mussoorrie and the t...  Positive   \n",
              "5058  It was torturous, landlines don’t work, so man...  Negative   \n",
              "7774  Nice hotel..!!! It was fun to stay here .Servi...  Positive   \n",
              "7575  Location is nice, peaceful and easy approachab...  Positive   \n",
              "...                                                 ...       ...   \n",
              "2665  Amazing property with amazing staff especially...  Positive   \n",
              "1833  Went for my first anniversary. Had earlier gon...  Positive   \n",
              "2311  We were here in the property for three nights ...  Positive   \n",
              "400   I don't have words to Express my immense grati...  Positive   \n",
              "3321  Very good view awesome food peaceful stay Dist...  Positive   \n",
              "\n",
              "     Year of stay Month of stay  \\\n",
              "5085         2021         April   \n",
              "1588         2019           May   \n",
              "5058         2021          July   \n",
              "7774         2018      November   \n",
              "7575         2019         April   \n",
              "...           ...           ...   \n",
              "2665         2018         March   \n",
              "1833         2019      February   \n",
              "2311         2018        August   \n",
              "400          2021      February   \n",
              "3321         2020      November   \n",
              "\n",
              "                                   Preprocessed_reviews  \n",
              "5085  hotal beautifulwe stay hereour stay awesome be...  \n",
              "1588  first time mussoorrie trip quite memory must s...  \n",
              "5058  torturous landlines dont work many stairs cros...  \n",
              "7774  nice hotel fun stay services great staff membe...  \n",
              "7575  location nice peaceful easy approachable rooms...  \n",
              "...                                                 ...  \n",
              "2665  amazing property amazing staff especially saga...  \n",
              "1833  went first anniversary earlier gone sisters en...  \n",
              "2311  property three nights stay best would like spe...  \n",
              "400   dont words express immense gratitude imran ji ...  \n",
              "3321  good view awesome food peaceful stay distance ...  \n",
              "\n",
              "[8293 rows x 5 columns]"
            ]
          },
          "execution_count": 157,
          "metadata": {},
          "output_type": "execute_result"
        }
      ],
      "source": [
        "df"
      ]
    },
    {
      "cell_type": "code",
      "execution_count": null,
      "metadata": {
        "id": "prdvMvMFxkgZ"
      },
      "outputs": [],
      "source": [
        "# 14. 단어 개수 세기\n",
        "df[\"Word_count\"] = df[\"Review\"].apply(lambda x: len(str(x).split()))"
      ]
    },
    {
      "cell_type": "code",
      "execution_count": null,
      "metadata": {
        "id": "yLox6kxexkga"
      },
      "outputs": [],
      "source": [
        "# 15. 특별한 단어 개수 세기\n",
        "df[\"Unique_word_count\"] = df[\"Review\"].apply(lambda x: len(set(str(x).split())))"
      ]
    },
    {
      "cell_type": "code",
      "execution_count": null,
      "metadata": {
        "id": "NGU7eHUxxkga"
      },
      "outputs": [],
      "source": [
        "# 16. 불용어 개수 세기\n",
        "stop_words = StopWords.words('english')\n",
        "df[\"Stopword_count\"] = df[\"Review\"].apply(lambda x: len([w for w in str(x).lower().split() if w not in stop_words]))"
      ]
    },
    {
      "cell_type": "code",
      "execution_count": null,
      "metadata": {
        "id": "S-jnd6ECxkga"
      },
      "outputs": [],
      "source": [
        "# 17. 한 단어당 알파벳 글자 개수 평균\n",
        "df[\"Mean_word_length\"] = df[\"Review\"].apply(lambda x: np.mean([len(w) for w in str(x).split()]))"
      ]
    },
    {
      "cell_type": "code",
      "execution_count": null,
      "metadata": {
        "id": "xqNR9UFGxkga"
      },
      "outputs": [],
      "source": [
        "# 18. 총 문자의 개수\n",
        "df[\"Char_count\"] = df[\"Review\"].apply(lambda x: len(str(x)))"
      ]
    },
    {
      "cell_type": "code",
      "execution_count": null,
      "metadata": {
        "id": "Q0cS89l3xkga",
        "outputId": "1d10b3d9-2872-4adf-dabe-fb6c36977efb"
      },
      "outputs": [
        {
          "data": {
            "text/html": [
              "<div>\n",
              "<style scoped>\n",
              "    .dataframe tbody tr th:only-of-type {\n",
              "        vertical-align: middle;\n",
              "    }\n",
              "\n",
              "    .dataframe tbody tr th {\n",
              "        vertical-align: top;\n",
              "    }\n",
              "\n",
              "    .dataframe thead th {\n",
              "        text-align: right;\n",
              "    }\n",
              "</style>\n",
              "<table border=\"1\" class=\"dataframe\">\n",
              "  <thead>\n",
              "    <tr style=\"text-align: right;\">\n",
              "      <th></th>\n",
              "      <th>Review</th>\n",
              "      <th>Sentiment</th>\n",
              "      <th>Year of stay</th>\n",
              "      <th>Month of stay</th>\n",
              "      <th>Preprocessed_reviews</th>\n",
              "      <th>Word_count</th>\n",
              "      <th>Unique_word_count</th>\n",
              "      <th>Stopword_count</th>\n",
              "      <th>Mean_word_length</th>\n",
              "      <th>Char_count</th>\n",
              "      <th>Punctuation_count</th>\n",
              "    </tr>\n",
              "  </thead>\n",
              "  <tbody>\n",
              "    <tr>\n",
              "      <th>5085</th>\n",
              "      <td>This hotal is beautiful..we stay here..our sta...</td>\n",
              "      <td>Positive</td>\n",
              "      <td>2021</td>\n",
              "      <td>April</td>\n",
              "      <td>hotal beautifulwe stay hereour stay awesome be...</td>\n",
              "      <td>36</td>\n",
              "      <td>32</td>\n",
              "      <td>26</td>\n",
              "      <td>5.638889</td>\n",
              "      <td>238</td>\n",
              "      <td>15</td>\n",
              "    </tr>\n",
              "    <tr>\n",
              "      <th>1588</th>\n",
              "      <td>This was my first time to mussoorrie and the t...</td>\n",
              "      <td>Positive</td>\n",
              "      <td>2019</td>\n",
              "      <td>May</td>\n",
              "      <td>first time mussoorrie trip quite memory must s...</td>\n",
              "      <td>155</td>\n",
              "      <td>97</td>\n",
              "      <td>75</td>\n",
              "      <td>4.096774</td>\n",
              "      <td>790</td>\n",
              "      <td>9</td>\n",
              "    </tr>\n",
              "    <tr>\n",
              "      <th>5058</th>\n",
              "      <td>It was torturous, landlines don’t work, so man...</td>\n",
              "      <td>Negative</td>\n",
              "      <td>2021</td>\n",
              "      <td>July</td>\n",
              "      <td>torturous landlines dont work many stairs cros...</td>\n",
              "      <td>37</td>\n",
              "      <td>35</td>\n",
              "      <td>24</td>\n",
              "      <td>4.702703</td>\n",
              "      <td>211</td>\n",
              "      <td>9</td>\n",
              "    </tr>\n",
              "    <tr>\n",
              "      <th>7774</th>\n",
              "      <td>Nice hotel..!!! It was fun to stay here .Servi...</td>\n",
              "      <td>Positive</td>\n",
              "      <td>2018</td>\n",
              "      <td>November</td>\n",
              "      <td>nice hotel fun stay services great staff membe...</td>\n",
              "      <td>45</td>\n",
              "      <td>38</td>\n",
              "      <td>26</td>\n",
              "      <td>4.711111</td>\n",
              "      <td>256</td>\n",
              "      <td>11</td>\n",
              "    </tr>\n",
              "    <tr>\n",
              "      <th>7575</th>\n",
              "      <td>Location is nice, peaceful and easy approachab...</td>\n",
              "      <td>Positive</td>\n",
              "      <td>2019</td>\n",
              "      <td>April</td>\n",
              "      <td>location nice peaceful easy approachable rooms...</td>\n",
              "      <td>32</td>\n",
              "      <td>29</td>\n",
              "      <td>22</td>\n",
              "      <td>5.531250</td>\n",
              "      <td>208</td>\n",
              "      <td>7</td>\n",
              "    </tr>\n",
              "  </tbody>\n",
              "</table>\n",
              "</div>"
            ],
            "text/plain": [
              "                                                 Review Sentiment  \\\n",
              "5085  This hotal is beautiful..we stay here..our sta...  Positive   \n",
              "1588  This was my first time to mussoorrie and the t...  Positive   \n",
              "5058  It was torturous, landlines don’t work, so man...  Negative   \n",
              "7774  Nice hotel..!!! It was fun to stay here .Servi...  Positive   \n",
              "7575  Location is nice, peaceful and easy approachab...  Positive   \n",
              "\n",
              "     Year of stay Month of stay  \\\n",
              "5085         2021         April   \n",
              "1588         2019           May   \n",
              "5058         2021          July   \n",
              "7774         2018      November   \n",
              "7575         2019         April   \n",
              "\n",
              "                                   Preprocessed_reviews  Word_count  \\\n",
              "5085  hotal beautifulwe stay hereour stay awesome be...          36   \n",
              "1588  first time mussoorrie trip quite memory must s...         155   \n",
              "5058  torturous landlines dont work many stairs cros...          37   \n",
              "7774  nice hotel fun stay services great staff membe...          45   \n",
              "7575  location nice peaceful easy approachable rooms...          32   \n",
              "\n",
              "      Unique_word_count  Stopword_count  Mean_word_length  Char_count  \\\n",
              "5085                 32              26          5.638889         238   \n",
              "1588                 97              75          4.096774         790   \n",
              "5058                 35              24          4.702703         211   \n",
              "7774                 38              26          4.711111         256   \n",
              "7575                 29              22          5.531250         208   \n",
              "\n",
              "      Punctuation_count  \n",
              "5085                 15  \n",
              "1588                  9  \n",
              "5058                  9  \n",
              "7774                 11  \n",
              "7575                  7  "
            ]
          },
          "execution_count": 163,
          "metadata": {},
          "output_type": "execute_result"
        }
      ],
      "source": [
        "# 19. 구두점 개수 세기\n",
        "df[\"Punctuation_count\"] = df[\"Review\"].apply(lambda x: len([p for p in str(x) if p in string.punctuation]))\n",
        "df.head()"
      ]
    },
    {
      "cell_type": "code",
      "execution_count": null,
      "metadata": {
        "id": "k11DH-hvxkgb",
        "outputId": "b2ab9f60-b355-4d38-fb02-7f854beea5c3"
      },
      "outputs": [
        {
          "data": {
            "image/png": "[encoded data removed]",
            "text/plain": [
              "<Figure size 648x648 with 1 Axes>"
            ]
          },
          "metadata": {},
          "output_type": "display_data"
        }
      ],
      "source": [
        "# 타겟 균형도\n",
        "plt.figure(figsize=(9, 9))\n",
        "s = df['Sentiment'].value_counts().plot(kind='pie', autopct='%1.1f%%', startangle=90, fontsize=14, colors=['#72EEA4', '#F37D67']);\n",
        "s.set_ylabel('');\n",
        "s.set_title('Target Distribution in dataset', fontsize=20);"
      ]
    },
    {
      "cell_type": "code",
      "execution_count": null,
      "metadata": {
        "id": "Qn8MTItdxkgb"
      },
      "outputs": [],
      "source": [
        "def generate_ngrams(text, n_gram=1):\n",
        "    \"\"\"\n",
        "    Returns ngrams for the given text.\n",
        "    \n",
        "    Parameters:\n",
        "    text : for which we want ngrams\n",
        "    n_gram : value for ngram\n",
        "    \"\"\"\n",
        "    token = [token for token in text.lower().split(' ') if token != '' if token not in STOPWORDS]\n",
        "    ngrams = zip(*[token[i:] for i in range(n_gram)])\n",
        "    return [' '.join(ngram) for ngram in ngrams]"
      ]
    },
    {
      "cell_type": "code",
      "execution_count": null,
      "metadata": {
        "id": "Gtg_2G2Axkgb",
        "outputId": "fc0c52e0-45a5-4286-8192-8f443f2194df"
      },
      "outputs": [
        {
          "data": {
            "image/png": "[encoded data removed]",
            "text/plain": [
              "<Figure size 1728x720 with 2 Axes>"
            ]
          },
          "metadata": {
            "needs_background": "light"
          },
          "output_type": "display_data"
        }
      ],
      "source": [
        "positive_unigrams = defaultdict(int)\n",
        "negative_unigrams = defaultdict(int)\n",
        "\n",
        "# Number of ngrams we want\n",
        "N = 25\n",
        "\n",
        "# Loop for updating value of positive_unigrams\n",
        "for review in df['Preprocessed_reviews'][df['Sentiment']==\"Positive\"]:\n",
        "    for word in generate_ngrams(review):\n",
        "        positive_unigrams[word] += 1\n",
        "\n",
        "for review in df['Preprocessed_reviews'][df['Sentiment']==\"Negative\"]:\n",
        "    for word in generate_ngrams(review):\n",
        "        negative_unigrams[word] += 1\n",
        "        \n",
        "# Creating dataframes using default dictionaries\n",
        "df_positive_unigrams = pd.DataFrame(sorted(positive_unigrams.items(), key=lambda x: x[1])[::-1])\n",
        "df_negative_unigrams = pd.DataFrame(sorted(negative_unigrams.items(), key=lambda x: x[1])[::-1])\n",
        "\n",
        "        \n",
        "fig, axes = plt.subplots(ncols=2, figsize=(24, 10))\n",
        "plt.tight_layout(pad=4.0)\n",
        "\n",
        "# Plotting positive and negative unigrams dataset\n",
        "sns.despine()\n",
        "sns.barplot(y = df_positive_unigrams[0].values[:N], x = df_positive_unigrams[1].values[:N], ax=axes[0], color='#72EEA4')\n",
        "sns.barplot(y = df_negative_unigrams[0].values[:N], x = df_negative_unigrams[1].values[:N], ax=axes[1], color='#F37D67')\n",
        "\n",
        "axes[0].set_title(f'Top {N} most common unigrams in Positive Reviews', fontsize=15)\n",
        "axes[1].set_title(f'Top {N} most common unigrams in Negative Reviews', fontsize=15)\n",
        "\n",
        "plt.show()"
      ]
    },
    {
      "cell_type": "code",
      "execution_count": null,
      "metadata": {
        "id": "ox5e2QlAxkgb",
        "outputId": "bc451881-10b4-4cea-c1a0-fb8b9d9c076d"
      },
      "outputs": [
        {
          "data": {
            "image/png": "[encoded data removed]",
            "text/plain": [
              "<Figure size 1728x720 with 2 Axes>"
            ]
          },
          "metadata": {
            "needs_background": "light"
          },
          "output_type": "display_data"
        }
      ],
      "source": [
        "positive_bigrams = defaultdict(int)\n",
        "negative_bigrams = defaultdict(int)\n",
        "\n",
        "# Number of ngrams we want\n",
        "N = 25\n",
        "\n",
        "# Loop for updating values of bigrams in default dictionary\n",
        "for review in df['Preprocessed_reviews'][df['Sentiment']==\"Positive\"]:\n",
        "    for word in generate_ngrams(review, n_gram=2):\n",
        "        positive_bigrams[word] += 1\n",
        "\n",
        "for review in df['Preprocessed_reviews'][df['Sentiment']==\"Negative\"]:\n",
        "    for word in generate_ngrams(review, n_gram=2):\n",
        "        negative_bigrams[word] += 1\n",
        "        \n",
        "# Creating a dataset using default dictionaries\n",
        "df_positive_bigrams = pd.DataFrame(sorted(positive_bigrams.items(), key=lambda x: x[1])[::-1])\n",
        "df_negative_bigrams = pd.DataFrame(sorted(negative_bigrams.items(), key=lambda x: x[1])[::-1])\n",
        "        \n",
        "fig, axes = plt.subplots(ncols=2, figsize=(24, 10))\n",
        "plt.tight_layout(pad=4.0)\n",
        " \n",
        "# Plotting both positive and negative bigrams\n",
        "sns.despine()\n",
        "sns.barplot(y = df_positive_bigrams[0].values[:N], x = df_positive_bigrams[1].values[:N], ax=axes[0], color='#72EEA4')\n",
        "sns.barplot(y = df_negative_bigrams[0].values[:N], x = df_negative_bigrams[1].values[:N], ax=axes[1], color='#F37D67')\n",
        "\n",
        "axes[0].set_title(f'Top {N} most common bigrams in Positive Reviews', fontsize=15)\n",
        "axes[1].set_title(f'Top {N} most common bigrams in Negative Reviews', fontsize=15)\n",
        "\n",
        "plt.show()"
      ]
    },
    {
      "cell_type": "code",
      "execution_count": null,
      "metadata": {
        "id": "VmwlAAjjxkgc",
        "outputId": "b66a3ae6-addd-4469-8107-157facfe01be"
      },
      "outputs": [
        {
          "data": {
            "image/png": "[encoded data removed]",
            "text/plain": [
              "<Figure size 1728x720 with 2 Axes>"
            ]
          },
          "metadata": {
            "needs_background": "light"
          },
          "output_type": "display_data"
        }
      ],
      "source": [
        "positive_trigrams = defaultdict(int)\n",
        "negative_trigrams = defaultdict(int)\n",
        "\n",
        "# Number of ngrams we want\n",
        "N = 25\n",
        "\n",
        "# Loop for updating default dictionaries \n",
        "for review in df['Preprocessed_reviews'][df['Sentiment']==\"Positive\"]:\n",
        "    for word in generate_ngrams(review, n_gram=3):\n",
        "        positive_trigrams[word] += 1\n",
        "\n",
        "for review in df['Preprocessed_reviews'][df['Sentiment']==\"Negative\"]:\n",
        "    for word in generate_ngrams(review, n_gram=3):\n",
        "        negative_trigrams[word] += 1\n",
        "        \n",
        "# Creating a dataframe using dictionaries\n",
        "df_positive_trigrams = pd.DataFrame(sorted(positive_trigrams.items(), key=lambda x: x[1])[::-1])\n",
        "df_negative_trigrams = pd.DataFrame(sorted(negative_trigrams.items(), key=lambda x: x[1])[::-1])\n",
        "        \n",
        "fig, axes = plt.subplots(ncols=2, figsize=(24, 10))\n",
        "plt.tight_layout(pad=4.0)\n",
        "     \n",
        "# Plotting positive and negative trigrams\n",
        "sns.despine()\n",
        "sns.barplot(y = df_positive_trigrams[0].values[:N], x = df_positive_trigrams[1].values[:N], ax=axes[0], color='#72EEA4')\n",
        "sns.barplot(y = df_negative_trigrams[0].values[:N], x = df_negative_trigrams[1].values[:N], ax=axes[1], color='#F37D67')\n",
        "\n",
        "axes[0].set_title(f'Top {N} most common trigrams in Positive Reviews', fontsize=15)\n",
        "axes[1].set_title(f'Top {N} most common trigrams in Negative Reviews', fontsize=15)\n",
        "\n",
        "plt.show()"
      ]
    },
    {
      "cell_type": "code",
      "execution_count": null,
      "metadata": {
        "id": "w6zZ-lMlxkgc"
      },
      "outputs": [],
      "source": [
        "# Create custom stop words\n",
        "all_text = \" \".join(list(df[\"Preprocessed_reviews\"]))\n",
        "words = pd.Series(all_text.split(\" \"))\n",
        "frequent_words = words.value_counts()[:20]"
      ]
    },
    {
      "cell_type": "code",
      "execution_count": null,
      "metadata": {
        "id": "3zLGcyYxxkgc"
      },
      "outputs": [],
      "source": [
        "df[\"Preprocessed_reviews\"] = df[\"Preprocessed_reviews\"].apply(lambda x: \" \".join([word for word in str(x).split() if word not in frequent_words]))"
      ]
    },
    {
      "cell_type": "code",
      "execution_count": null,
      "metadata": {
        "id": "qaUx19w6xkgc"
      },
      "outputs": [],
      "source": [
        "le = LabelEncoder()\n",
        "df['Sentiment'] = le.fit_transform(df['Sentiment'])"
      ]
    },
    {
      "cell_type": "code",
      "execution_count": null,
      "metadata": {
        "id": "d4JR3TOPxkgc"
      },
      "outputs": [],
      "source": [
        "xtrain, xtest, ytrain, ytest = train_test_split(df['Review'], df['Sentiment'], \n",
        "                                                  stratify=df['Sentiment'], \n",
        "                                                  random_state=42, \n",
        "                                                  test_size=0.2, shuffle=True)"
      ]
    },
    {
      "cell_type": "code",
      "execution_count": null,
      "metadata": {
        "id": "KH2xz_vaxkgd"
      },
      "outputs": [],
      "source": [
        "xtrain, xval, ytrain, yval = train_test_split(xtrain, ytrain, \n",
        "                                                  stratify=ytrain, \n",
        "                                                  random_state=42, \n",
        "                                                  test_size=0.1, shuffle=True)"
      ]
    },
    {
      "cell_type": "code",
      "execution_count": null,
      "metadata": {
        "id": "WiYug-2-xkgd"
      },
      "outputs": [],
      "source": [
        "# Initializing TfidfVectorizer\n",
        "tfv = TfidfVectorizer(min_df=3,  max_features=None, decode_error = \"replace\", preprocessor = preprocess_data,\n",
        "            strip_accents='unicode', analyzer='word',token_pattern=r'\\w{1,}',\n",
        "            ngram_range=(1, 3), use_idf=1,smooth_idf=1,sublinear_tf=1,\n",
        "            stop_words = 'english')\n",
        "\n",
        "# Fitting Tfidf vectorizer to training dataset\n",
        "tfv.fit(list(xtrain))\n",
        "\n",
        "# Transforming the training and validation dataset \n",
        "xtrain_tfv = tfv.transform(xtrain)\n",
        "xval_tfv = tfv.transform(xval)"
      ]
    },
    {
      "cell_type": "code",
      "execution_count": null,
      "metadata": {
        "id": "_bvHBqjtxkgd",
        "outputId": "bb5d6e7c-a285-43fd-cd43-22eb4efff376"
      },
      "outputs": [
        {
          "name": "stdout",
          "output_type": "stream",
          "text": [
            "[0]\tvalidation_0-logloss:0.67945\tvalidation_1-logloss:0.67914\n",
            "[1]\tvalidation_0-logloss:0.66635\tvalidation_1-logloss:0.66574\n",
            "[2]\tvalidation_0-logloss:0.65446\tvalidation_1-logloss:0.65395\n",
            "[3]\tvalidation_0-logloss:0.64209\tvalidation_1-logloss:0.64121\n",
            "[4]\tvalidation_0-logloss:0.63018\tvalidation_1-logloss:0.62903\n",
            "[5]\tvalidation_0-logloss:0.61964\tvalidation_1-logloss:0.61881\n",
            "[6]\tvalidation_0-logloss:0.60860\tvalidation_1-logloss:0.60732\n",
            "[7]\tvalidation_0-logloss:0.59776\tvalidation_1-logloss:0.59615\n",
            "[8]\tvalidation_0-logloss:0.58824\tvalidation_1-logloss:0.58666\n",
            "[9]\tvalidation_0-logloss:0.57809\tvalidation_1-logloss:0.57597\n",
            "[10]\tvalidation_0-logloss:0.56797\tvalidation_1-logloss:0.56651\n",
            "[11]\tvalidation_0-logloss:0.55839\tvalidation_1-logloss:0.55686\n",
            "[12]\tvalidation_0-logloss:0.54966\tvalidation_1-logloss:0.54784\n",
            "[13]\tvalidation_0-logloss:0.54065\tvalidation_1-logloss:0.53889\n",
            "[14]\tvalidation_0-logloss:0.53195\tvalidation_1-logloss:0.52990\n",
            "[15]\tvalidation_0-logloss:0.52351\tvalidation_1-logloss:0.52178\n",
            "[16]\tvalidation_0-logloss:0.51569\tvalidation_1-logloss:0.51428\n",
            "[17]\tvalidation_0-logloss:0.50762\tvalidation_1-logloss:0.50609\n",
            "[18]\tvalidation_0-logloss:0.49987\tvalidation_1-logloss:0.49828\n",
            "[19]\tvalidation_0-logloss:0.49196\tvalidation_1-logloss:0.49092\n",
            "[20]\tvalidation_0-logloss:0.48456\tvalidation_1-logloss:0.48335\n",
            "[21]\tvalidation_0-logloss:0.47742\tvalidation_1-logloss:0.47616\n",
            "[22]\tvalidation_0-logloss:0.46986\tvalidation_1-logloss:0.46872\n",
            "[23]\tvalidation_0-logloss:0.46289\tvalidation_1-logloss:0.46160\n",
            "[24]\tvalidation_0-logloss:0.45626\tvalidation_1-logloss:0.45488\n",
            "[25]\tvalidation_0-logloss:0.44984\tvalidation_1-logloss:0.44839\n",
            "[26]\tvalidation_0-logloss:0.44343\tvalidation_1-logloss:0.44180\n",
            "[27]\tvalidation_0-logloss:0.43719\tvalidation_1-logloss:0.43541\n",
            "[28]\tvalidation_0-logloss:0.43123\tvalidation_1-logloss:0.42967\n",
            "[29]\tvalidation_0-logloss:0.42487\tvalidation_1-logloss:0.42349\n",
            "[30]\tvalidation_0-logloss:0.41899\tvalidation_1-logloss:0.41745\n",
            "[31]\tvalidation_0-logloss:0.41310\tvalidation_1-logloss:0.41206\n",
            "[32]\tvalidation_0-logloss:0.40772\tvalidation_1-logloss:0.40687\n",
            "[33]\tvalidation_0-logloss:0.40224\tvalidation_1-logloss:0.40122\n",
            "[34]\tvalidation_0-logloss:0.39671\tvalidation_1-logloss:0.39621\n",
            "[35]\tvalidation_0-logloss:0.39149\tvalidation_1-logloss:0.39081\n",
            "[36]\tvalidation_0-logloss:0.38664\tvalidation_1-logloss:0.38594\n",
            "[37]\tvalidation_0-logloss:0.38165\tvalidation_1-logloss:0.38086\n",
            "[38]\tvalidation_0-logloss:0.37691\tvalidation_1-logloss:0.37647\n",
            "[39]\tvalidation_0-logloss:0.37213\tvalidation_1-logloss:0.37148\n",
            "[40]\tvalidation_0-logloss:0.36736\tvalidation_1-logloss:0.36684\n",
            "[41]\tvalidation_0-logloss:0.36297\tvalidation_1-logloss:0.36237\n",
            "[42]\tvalidation_0-logloss:0.35888\tvalidation_1-logloss:0.35823\n",
            "[43]\tvalidation_0-logloss:0.35450\tvalidation_1-logloss:0.35378\n",
            "[44]\tvalidation_0-logloss:0.34983\tvalidation_1-logloss:0.34918\n",
            "[45]\tvalidation_0-logloss:0.34531\tvalidation_1-logloss:0.34469\n",
            "[46]\tvalidation_0-logloss:0.34130\tvalidation_1-logloss:0.34064\n",
            "[47]\tvalidation_0-logloss:0.33699\tvalidation_1-logloss:0.33636\n",
            "[48]\tvalidation_0-logloss:0.33312\tvalidation_1-logloss:0.33270\n",
            "[49]\tvalidation_0-logloss:0.32898\tvalidation_1-logloss:0.32866\n",
            "[50]\tvalidation_0-logloss:0.32492\tvalidation_1-logloss:0.32451\n",
            "[51]\tvalidation_0-logloss:0.32123\tvalidation_1-logloss:0.32092\n",
            "[52]\tvalidation_0-logloss:0.31738\tvalidation_1-logloss:0.31712\n",
            "[53]\tvalidation_0-logloss:0.31362\tvalidation_1-logloss:0.31351\n",
            "[54]\tvalidation_0-logloss:0.31017\tvalidation_1-logloss:0.31006\n",
            "[55]\tvalidation_0-logloss:0.30678\tvalidation_1-logloss:0.30666\n",
            "[56]\tvalidation_0-logloss:0.30328\tvalidation_1-logloss:0.30347\n",
            "[57]\tvalidation_0-logloss:0.29964\tvalidation_1-logloss:0.29991\n",
            "[58]\tvalidation_0-logloss:0.29644\tvalidation_1-logloss:0.29679\n",
            "[59]\tvalidation_0-logloss:0.29306\tvalidation_1-logloss:0.29343\n",
            "[60]\tvalidation_0-logloss:0.28986\tvalidation_1-logloss:0.29030\n",
            "[61]\tvalidation_0-logloss:0.28664\tvalidation_1-logloss:0.28730\n",
            "[62]\tvalidation_0-logloss:0.28349\tvalidation_1-logloss:0.28447\n",
            "[63]\tvalidation_0-logloss:0.28045\tvalidation_1-logloss:0.28155\n",
            "[64]\tvalidation_0-logloss:0.27769\tvalidation_1-logloss:0.27892\n",
            "[65]\tvalidation_0-logloss:0.27473\tvalidation_1-logloss:0.27612\n",
            "[66]\tvalidation_0-logloss:0.27163\tvalidation_1-logloss:0.27308\n",
            "[67]\tvalidation_0-logloss:0.26886\tvalidation_1-logloss:0.27038\n",
            "[68]\tvalidation_0-logloss:0.26588\tvalidation_1-logloss:0.26755\n",
            "[69]\tvalidation_0-logloss:0.26308\tvalidation_1-logloss:0.26477\n",
            "[70]\tvalidation_0-logloss:0.26054\tvalidation_1-logloss:0.26214\n",
            "[71]\tvalidation_0-logloss:0.25771\tvalidation_1-logloss:0.25939\n",
            "[72]\tvalidation_0-logloss:0.25519\tvalidation_1-logloss:0.25687\n",
            "[73]\tvalidation_0-logloss:0.25248\tvalidation_1-logloss:0.25430\n",
            "[74]\tvalidation_0-logloss:0.25008\tvalidation_1-logloss:0.25208\n",
            "[75]\tvalidation_0-logloss:0.24756\tvalidation_1-logloss:0.24961\n",
            "[76]\tvalidation_0-logloss:0.24504\tvalidation_1-logloss:0.24726\n",
            "[77]\tvalidation_0-logloss:0.24272\tvalidation_1-logloss:0.24509\n",
            "[78]\tvalidation_0-logloss:0.24020\tvalidation_1-logloss:0.24264\n",
            "[79]\tvalidation_0-logloss:0.23783\tvalidation_1-logloss:0.24028\n",
            "[80]\tvalidation_0-logloss:0.23554\tvalidation_1-logloss:0.23810\n",
            "[81]\tvalidation_0-logloss:0.23315\tvalidation_1-logloss:0.23585\n",
            "[82]\tvalidation_0-logloss:0.23092\tvalidation_1-logloss:0.23373\n",
            "[83]\tvalidation_0-logloss:0.22862\tvalidation_1-logloss:0.23138\n",
            "[84]\tvalidation_0-logloss:0.22653\tvalidation_1-logloss:0.22936\n",
            "[85]\tvalidation_0-logloss:0.22446\tvalidation_1-logloss:0.22739\n",
            "[86]\tvalidation_0-logloss:0.22226\tvalidation_1-logloss:0.22533\n",
            "[87]\tvalidation_0-logloss:0.22018\tvalidation_1-logloss:0.22345\n",
            "[88]\tvalidation_0-logloss:0.21816\tvalidation_1-logloss:0.22144\n",
            "[89]\tvalidation_0-logloss:0.21616\tvalidation_1-logloss:0.21951\n",
            "[90]\tvalidation_0-logloss:0.21414\tvalidation_1-logloss:0.21746\n",
            "[91]\tvalidation_0-logloss:0.21221\tvalidation_1-logloss:0.21571\n",
            "[92]\tvalidation_0-logloss:0.21029\tvalidation_1-logloss:0.21392\n",
            "[93]\tvalidation_0-logloss:0.20845\tvalidation_1-logloss:0.21210\n",
            "[94]\tvalidation_0-logloss:0.20661\tvalidation_1-logloss:0.21033\n",
            "[95]\tvalidation_0-logloss:0.20475\tvalidation_1-logloss:0.20858\n",
            "[96]\tvalidation_0-logloss:0.20298\tvalidation_1-logloss:0.20695\n",
            "[97]\tvalidation_0-logloss:0.20124\tvalidation_1-logloss:0.20537\n",
            "[98]\tvalidation_0-logloss:0.19947\tvalidation_1-logloss:0.20356\n",
            "[99]\tvalidation_0-logloss:0.19772\tvalidation_1-logloss:0.20202\n",
            "[100]\tvalidation_0-logloss:0.19602\tvalidation_1-logloss:0.20033\n",
            "[101]\tvalidation_0-logloss:0.19435\tvalidation_1-logloss:0.19862\n",
            "[102]\tvalidation_0-logloss:0.19273\tvalidation_1-logloss:0.19713\n",
            "[103]\tvalidation_0-logloss:0.19085\tvalidation_1-logloss:0.19535\n",
            "[104]\tvalidation_0-logloss:0.18926\tvalidation_1-logloss:0.19372\n",
            "[105]\tvalidation_0-logloss:0.18770\tvalidation_1-logloss:0.19233\n",
            "[106]\tvalidation_0-logloss:0.18616\tvalidation_1-logloss:0.19066\n",
            "[107]\tvalidation_0-logloss:0.18467\tvalidation_1-logloss:0.18931\n",
            "[108]\tvalidation_0-logloss:0.18309\tvalidation_1-logloss:0.18794\n",
            "[109]\tvalidation_0-logloss:0.18137\tvalidation_1-logloss:0.18631\n",
            "[110]\tvalidation_0-logloss:0.17992\tvalidation_1-logloss:0.18502\n",
            "[111]\tvalidation_0-logloss:0.17826\tvalidation_1-logloss:0.18353\n",
            "[112]\tvalidation_0-logloss:0.17676\tvalidation_1-logloss:0.18230\n",
            "[113]\tvalidation_0-logloss:0.17513\tvalidation_1-logloss:0.18079\n",
            "[114]\tvalidation_0-logloss:0.17378\tvalidation_1-logloss:0.17960\n",
            "[115]\tvalidation_0-logloss:0.17244\tvalidation_1-logloss:0.17837\n",
            "[116]\tvalidation_0-logloss:0.17104\tvalidation_1-logloss:0.17703\n",
            "[117]\tvalidation_0-logloss:0.16975\tvalidation_1-logloss:0.17588\n",
            "[118]\tvalidation_0-logloss:0.16837\tvalidation_1-logloss:0.17459\n",
            "[119]\tvalidation_0-logloss:0.16704\tvalidation_1-logloss:0.17321\n",
            "[120]\tvalidation_0-logloss:0.16579\tvalidation_1-logloss:0.17203\n",
            "[121]\tvalidation_0-logloss:0.16436\tvalidation_1-logloss:0.17077\n",
            "[122]\tvalidation_0-logloss:0.16311\tvalidation_1-logloss:0.16955\n",
            "[123]\tvalidation_0-logloss:0.16187\tvalidation_1-logloss:0.16834\n",
            "[124]\tvalidation_0-logloss:0.16063\tvalidation_1-logloss:0.16696\n",
            "[125]\tvalidation_0-logloss:0.15943\tvalidation_1-logloss:0.16581\n",
            "[126]\tvalidation_0-logloss:0.15827\tvalidation_1-logloss:0.16478\n",
            "[127]\tvalidation_0-logloss:0.15694\tvalidation_1-logloss:0.16365\n",
            "[128]\tvalidation_0-logloss:0.15553\tvalidation_1-logloss:0.16233\n",
            "[129]\tvalidation_0-logloss:0.15435\tvalidation_1-logloss:0.16126\n",
            "[130]\tvalidation_0-logloss:0.15324\tvalidation_1-logloss:0.16024\n",
            "[131]\tvalidation_0-logloss:0.15213\tvalidation_1-logloss:0.15932\n",
            "[132]\tvalidation_0-logloss:0.15100\tvalidation_1-logloss:0.15833\n",
            "[133]\tvalidation_0-logloss:0.14991\tvalidation_1-logloss:0.15736\n",
            "[134]\tvalidation_0-logloss:0.14884\tvalidation_1-logloss:0.15634\n",
            "[135]\tvalidation_0-logloss:0.14771\tvalidation_1-logloss:0.15533\n",
            "[136]\tvalidation_0-logloss:0.14663\tvalidation_1-logloss:0.15422\n",
            "[137]\tvalidation_0-logloss:0.14558\tvalidation_1-logloss:0.15317\n",
            "[138]\tvalidation_0-logloss:0.14442\tvalidation_1-logloss:0.15221\n",
            "[139]\tvalidation_0-logloss:0.14340\tvalidation_1-logloss:0.15106\n",
            "[140]\tvalidation_0-logloss:0.14239\tvalidation_1-logloss:0.15013\n",
            "[141]\tvalidation_0-logloss:0.14124\tvalidation_1-logloss:0.14907\n",
            "[142]\tvalidation_0-logloss:0.14024\tvalidation_1-logloss:0.14825\n",
            "[143]\tvalidation_0-logloss:0.13927\tvalidation_1-logloss:0.14737\n",
            "[144]\tvalidation_0-logloss:0.13836\tvalidation_1-logloss:0.14637\n",
            "[145]\tvalidation_0-logloss:0.13742\tvalidation_1-logloss:0.14557\n",
            "[146]\tvalidation_0-logloss:0.13639\tvalidation_1-logloss:0.14471\n",
            "[147]\tvalidation_0-logloss:0.13547\tvalidation_1-logloss:0.14396\n",
            "[148]\tvalidation_0-logloss:0.13442\tvalidation_1-logloss:0.14304\n",
            "[149]\tvalidation_0-logloss:0.13352\tvalidation_1-logloss:0.14223\n",
            "[150]\tvalidation_0-logloss:0.13251\tvalidation_1-logloss:0.14122\n",
            "[151]\tvalidation_0-logloss:0.13161\tvalidation_1-logloss:0.14054\n",
            "[152]\tvalidation_0-logloss:0.13063\tvalidation_1-logloss:0.13971\n",
            "[153]\tvalidation_0-logloss:0.12974\tvalidation_1-logloss:0.13899\n",
            "[154]\tvalidation_0-logloss:0.12887\tvalidation_1-logloss:0.13808\n",
            "[155]\tvalidation_0-logloss:0.12801\tvalidation_1-logloss:0.13748\n",
            "[156]\tvalidation_0-logloss:0.12718\tvalidation_1-logloss:0.13669\n",
            "[157]\tvalidation_0-logloss:0.12625\tvalidation_1-logloss:0.13595\n",
            "[158]\tvalidation_0-logloss:0.12544\tvalidation_1-logloss:0.13520\n",
            "[159]\tvalidation_0-logloss:0.12456\tvalidation_1-logloss:0.13443\n",
            "[160]\tvalidation_0-logloss:0.12376\tvalidation_1-logloss:0.13371\n",
            "[161]\tvalidation_0-logloss:0.12297\tvalidation_1-logloss:0.13289\n",
            "[162]\tvalidation_0-logloss:0.12215\tvalidation_1-logloss:0.13207\n",
            "[163]\tvalidation_0-logloss:0.12132\tvalidation_1-logloss:0.13145\n",
            "[164]\tvalidation_0-logloss:0.12050\tvalidation_1-logloss:0.13077\n",
            "[165]\tvalidation_0-logloss:0.11953\tvalidation_1-logloss:0.12991\n",
            "[166]\tvalidation_0-logloss:0.11874\tvalidation_1-logloss:0.12932\n",
            "[167]\tvalidation_0-logloss:0.11792\tvalidation_1-logloss:0.12885\n",
            "[168]\tvalidation_0-logloss:0.11712\tvalidation_1-logloss:0.12806\n",
            "[169]\tvalidation_0-logloss:0.11637\tvalidation_1-logloss:0.12747\n",
            "[170]\tvalidation_0-logloss:0.11564\tvalidation_1-logloss:0.12690\n",
            "[171]\tvalidation_0-logloss:0.11488\tvalidation_1-logloss:0.12629\n",
            "[172]\tvalidation_0-logloss:0.11418\tvalidation_1-logloss:0.12580\n",
            "[173]\tvalidation_0-logloss:0.11330\tvalidation_1-logloss:0.12506\n",
            "[174]\tvalidation_0-logloss:0.11253\tvalidation_1-logloss:0.12440\n",
            "[175]\tvalidation_0-logloss:0.11183\tvalidation_1-logloss:0.12387\n",
            "[176]\tvalidation_0-logloss:0.11113\tvalidation_1-logloss:0.12332\n",
            "[177]\tvalidation_0-logloss:0.11041\tvalidation_1-logloss:0.12276\n",
            "[178]\tvalidation_0-logloss:0.10968\tvalidation_1-logloss:0.12218\n",
            "[179]\tvalidation_0-logloss:0.10895\tvalidation_1-logloss:0.12151\n",
            "[180]\tvalidation_0-logloss:0.10828\tvalidation_1-logloss:0.12096\n",
            "[181]\tvalidation_0-logloss:0.10763\tvalidation_1-logloss:0.12031\n",
            "[182]\tvalidation_0-logloss:0.10701\tvalidation_1-logloss:0.11958\n",
            "[183]\tvalidation_0-logloss:0.10630\tvalidation_1-logloss:0.11908\n",
            "[184]\tvalidation_0-logloss:0.10565\tvalidation_1-logloss:0.11861\n",
            "[185]\tvalidation_0-logloss:0.10497\tvalidation_1-logloss:0.11808\n",
            "[186]\tvalidation_0-logloss:0.10433\tvalidation_1-logloss:0.11762\n",
            "[187]\tvalidation_0-logloss:0.10370\tvalidation_1-logloss:0.11700\n",
            "[188]\tvalidation_0-logloss:0.10304\tvalidation_1-logloss:0.11648\n",
            "[189]\tvalidation_0-logloss:0.10240\tvalidation_1-logloss:0.11586\n",
            "[190]\tvalidation_0-logloss:0.10174\tvalidation_1-logloss:0.11538\n",
            "[191]\tvalidation_0-logloss:0.10115\tvalidation_1-logloss:0.11489\n",
            "[192]\tvalidation_0-logloss:0.10051\tvalidation_1-logloss:0.11445\n",
            "[193]\tvalidation_0-logloss:0.09976\tvalidation_1-logloss:0.11377\n",
            "[194]\tvalidation_0-logloss:0.09921\tvalidation_1-logloss:0.11338\n",
            "[195]\tvalidation_0-logloss:0.09856\tvalidation_1-logloss:0.11286\n",
            "[196]\tvalidation_0-logloss:0.09796\tvalidation_1-logloss:0.11232\n",
            "[197]\tvalidation_0-logloss:0.09732\tvalidation_1-logloss:0.11175\n",
            "[198]\tvalidation_0-logloss:0.09674\tvalidation_1-logloss:0.11134\n",
            "[199]\tvalidation_0-logloss:0.09611\tvalidation_1-logloss:0.11090\n",
            "[200]\tvalidation_0-logloss:0.09555\tvalidation_1-logloss:0.11051\n",
            "[201]\tvalidation_0-logloss:0.09495\tvalidation_1-logloss:0.10996\n",
            "[202]\tvalidation_0-logloss:0.09442\tvalidation_1-logloss:0.10960\n",
            "[203]\tvalidation_0-logloss:0.09385\tvalidation_1-logloss:0.10918\n",
            "[204]\tvalidation_0-logloss:0.09327\tvalidation_1-logloss:0.10881\n",
            "[205]\tvalidation_0-logloss:0.09274\tvalidation_1-logloss:0.10841\n",
            "[206]\tvalidation_0-logloss:0.09219\tvalidation_1-logloss:0.10796\n",
            "[207]\tvalidation_0-logloss:0.09164\tvalidation_1-logloss:0.10755\n",
            "[208]\tvalidation_0-logloss:0.09114\tvalidation_1-logloss:0.10713\n",
            "[209]\tvalidation_0-logloss:0.09048\tvalidation_1-logloss:0.10653\n",
            "[210]\tvalidation_0-logloss:0.08997\tvalidation_1-logloss:0.10619\n",
            "[211]\tvalidation_0-logloss:0.08943\tvalidation_1-logloss:0.10583\n",
            "[212]\tvalidation_0-logloss:0.08893\tvalidation_1-logloss:0.10543\n",
            "[213]\tvalidation_0-logloss:0.08841\tvalidation_1-logloss:0.10506\n",
            "[214]\tvalidation_0-logloss:0.08790\tvalidation_1-logloss:0.10468\n",
            "[215]\tvalidation_0-logloss:0.08738\tvalidation_1-logloss:0.10422\n",
            "[216]\tvalidation_0-logloss:0.08689\tvalidation_1-logloss:0.10394\n",
            "[217]\tvalidation_0-logloss:0.08638\tvalidation_1-logloss:0.10347\n",
            "[218]\tvalidation_0-logloss:0.08586\tvalidation_1-logloss:0.10307\n",
            "[219]\tvalidation_0-logloss:0.08534\tvalidation_1-logloss:0.10262\n",
            "[220]\tvalidation_0-logloss:0.08489\tvalidation_1-logloss:0.10230\n",
            "[221]\tvalidation_0-logloss:0.08439\tvalidation_1-logloss:0.10194\n",
            "[222]\tvalidation_0-logloss:0.08392\tvalidation_1-logloss:0.10153\n",
            "[223]\tvalidation_0-logloss:0.08347\tvalidation_1-logloss:0.10117\n",
            "[224]\tvalidation_0-logloss:0.08303\tvalidation_1-logloss:0.10083\n",
            "[225]\tvalidation_0-logloss:0.08251\tvalidation_1-logloss:0.10046\n",
            "[226]\tvalidation_0-logloss:0.08209\tvalidation_1-logloss:0.10015\n",
            "[227]\tvalidation_0-logloss:0.08162\tvalidation_1-logloss:0.09979\n",
            "[228]\tvalidation_0-logloss:0.08110\tvalidation_1-logloss:0.09937\n",
            "[229]\tvalidation_0-logloss:0.08063\tvalidation_1-logloss:0.09901\n",
            "[230]\tvalidation_0-logloss:0.08018\tvalidation_1-logloss:0.09863\n",
            "[231]\tvalidation_0-logloss:0.07979\tvalidation_1-logloss:0.09831\n",
            "[232]\tvalidation_0-logloss:0.07935\tvalidation_1-logloss:0.09794\n",
            "[233]\tvalidation_0-logloss:0.07891\tvalidation_1-logloss:0.09758\n",
            "[234]\tvalidation_0-logloss:0.07847\tvalidation_1-logloss:0.09727\n",
            "[235]\tvalidation_0-logloss:0.07791\tvalidation_1-logloss:0.09675\n",
            "[236]\tvalidation_0-logloss:0.07752\tvalidation_1-logloss:0.09647\n",
            "[237]\tvalidation_0-logloss:0.07708\tvalidation_1-logloss:0.09619\n",
            "[238]\tvalidation_0-logloss:0.07663\tvalidation_1-logloss:0.09585\n",
            "[239]\tvalidation_0-logloss:0.07621\tvalidation_1-logloss:0.09545\n",
            "[240]\tvalidation_0-logloss:0.07578\tvalidation_1-logloss:0.09519\n",
            "[241]\tvalidation_0-logloss:0.07539\tvalidation_1-logloss:0.09488\n",
            "[242]\tvalidation_0-logloss:0.07501\tvalidation_1-logloss:0.09455\n",
            "[243]\tvalidation_0-logloss:0.07461\tvalidation_1-logloss:0.09425\n",
            "[244]\tvalidation_0-logloss:0.07421\tvalidation_1-logloss:0.09398\n",
            "[245]\tvalidation_0-logloss:0.07386\tvalidation_1-logloss:0.09356\n",
            "[246]\tvalidation_0-logloss:0.07351\tvalidation_1-logloss:0.09334\n",
            "[247]\tvalidation_0-logloss:0.07311\tvalidation_1-logloss:0.09302\n",
            "[248]\tvalidation_0-logloss:0.07277\tvalidation_1-logloss:0.09279\n",
            "[249]\tvalidation_0-logloss:0.07239\tvalidation_1-logloss:0.09252\n",
            "[250]\tvalidation_0-logloss:0.07201\tvalidation_1-logloss:0.09216\n",
            "[251]\tvalidation_0-logloss:0.07162\tvalidation_1-logloss:0.09192\n",
            "[252]\tvalidation_0-logloss:0.07122\tvalidation_1-logloss:0.09153\n",
            "[253]\tvalidation_0-logloss:0.07086\tvalidation_1-logloss:0.09116\n",
            "[254]\tvalidation_0-logloss:0.07049\tvalidation_1-logloss:0.09073\n",
            "[255]\tvalidation_0-logloss:0.07011\tvalidation_1-logloss:0.09046\n",
            "[256]\tvalidation_0-logloss:0.06976\tvalidation_1-logloss:0.09020\n",
            "[257]\tvalidation_0-logloss:0.06941\tvalidation_1-logloss:0.08995\n",
            "[258]\tvalidation_0-logloss:0.06904\tvalidation_1-logloss:0.08970\n",
            "[259]\tvalidation_0-logloss:0.06868\tvalidation_1-logloss:0.08935\n",
            "[260]\tvalidation_0-logloss:0.06830\tvalidation_1-logloss:0.08915\n",
            "[261]\tvalidation_0-logloss:0.06798\tvalidation_1-logloss:0.08899\n",
            "[262]\tvalidation_0-logloss:0.06762\tvalidation_1-logloss:0.08858\n",
            "[263]\tvalidation_0-logloss:0.06730\tvalidation_1-logloss:0.08837\n",
            "[264]\tvalidation_0-logloss:0.06695\tvalidation_1-logloss:0.08801\n",
            "[265]\tvalidation_0-logloss:0.06660\tvalidation_1-logloss:0.08767\n",
            "[266]\tvalidation_0-logloss:0.06628\tvalidation_1-logloss:0.08734\n",
            "[267]\tvalidation_0-logloss:0.06598\tvalidation_1-logloss:0.08714\n",
            "[268]\tvalidation_0-logloss:0.06568\tvalidation_1-logloss:0.08695\n",
            "[269]\tvalidation_0-logloss:0.06536\tvalidation_1-logloss:0.08677\n",
            "[270]\tvalidation_0-logloss:0.06508\tvalidation_1-logloss:0.08658\n",
            "[271]\tvalidation_0-logloss:0.06475\tvalidation_1-logloss:0.08627\n",
            "[272]\tvalidation_0-logloss:0.06442\tvalidation_1-logloss:0.08611\n",
            "[273]\tvalidation_0-logloss:0.06407\tvalidation_1-logloss:0.08587\n",
            "[274]\tvalidation_0-logloss:0.06380\tvalidation_1-logloss:0.08551\n",
            "[275]\tvalidation_0-logloss:0.06347\tvalidation_1-logloss:0.08528\n",
            "[276]\tvalidation_0-logloss:0.06316\tvalidation_1-logloss:0.08514\n",
            "[277]\tvalidation_0-logloss:0.06286\tvalidation_1-logloss:0.08485\n",
            "[278]\tvalidation_0-logloss:0.06257\tvalidation_1-logloss:0.08463\n",
            "[279]\tvalidation_0-logloss:0.06226\tvalidation_1-logloss:0.08441\n",
            "[280]\tvalidation_0-logloss:0.06198\tvalidation_1-logloss:0.08420\n",
            "[281]\tvalidation_0-logloss:0.06165\tvalidation_1-logloss:0.08395\n",
            "[282]\tvalidation_0-logloss:0.06138\tvalidation_1-logloss:0.08372\n",
            "[283]\tvalidation_0-logloss:0.06109\tvalidation_1-logloss:0.08350\n",
            "[284]\tvalidation_0-logloss:0.06078\tvalidation_1-logloss:0.08318\n",
            "[285]\tvalidation_0-logloss:0.06050\tvalidation_1-logloss:0.08293\n",
            "[286]\tvalidation_0-logloss:0.06023\tvalidation_1-logloss:0.08276\n",
            "[287]\tvalidation_0-logloss:0.05998\tvalidation_1-logloss:0.08257\n",
            "[288]\tvalidation_0-logloss:0.05971\tvalidation_1-logloss:0.08236\n",
            "[289]\tvalidation_0-logloss:0.05943\tvalidation_1-logloss:0.08219\n",
            "[290]\tvalidation_0-logloss:0.05918\tvalidation_1-logloss:0.08203\n",
            "[291]\tvalidation_0-logloss:0.05888\tvalidation_1-logloss:0.08172\n",
            "[292]\tvalidation_0-logloss:0.05855\tvalidation_1-logloss:0.08145\n",
            "[293]\tvalidation_0-logloss:0.05829\tvalidation_1-logloss:0.08125\n",
            "[294]\tvalidation_0-logloss:0.05802\tvalidation_1-logloss:0.08105\n",
            "[295]\tvalidation_0-logloss:0.05765\tvalidation_1-logloss:0.08071\n",
            "[296]\tvalidation_0-logloss:0.05738\tvalidation_1-logloss:0.08049\n",
            "[297]\tvalidation_0-logloss:0.05713\tvalidation_1-logloss:0.08032\n",
            "[298]\tvalidation_0-logloss:0.05687\tvalidation_1-logloss:0.08014\n",
            "[299]\tvalidation_0-logloss:0.05656\tvalidation_1-logloss:0.07976\n",
            "[300]\tvalidation_0-logloss:0.05631\tvalidation_1-logloss:0.07952\n",
            "[301]\tvalidation_0-logloss:0.05608\tvalidation_1-logloss:0.07925\n",
            "[302]\tvalidation_0-logloss:0.05584\tvalidation_1-logloss:0.07904\n",
            "[303]\tvalidation_0-logloss:0.05561\tvalidation_1-logloss:0.07885\n",
            "[304]\tvalidation_0-logloss:0.05535\tvalidation_1-logloss:0.07858\n",
            "[305]\tvalidation_0-logloss:0.05507\tvalidation_1-logloss:0.07841\n",
            "[306]\tvalidation_0-logloss:0.05484\tvalidation_1-logloss:0.07828\n",
            "[307]\tvalidation_0-logloss:0.05457\tvalidation_1-logloss:0.07808\n",
            "[308]\tvalidation_0-logloss:0.05433\tvalidation_1-logloss:0.07798\n",
            "[309]\tvalidation_0-logloss:0.05412\tvalidation_1-logloss:0.07782\n",
            "[310]\tvalidation_0-logloss:0.05389\tvalidation_1-logloss:0.07774\n",
            "[311]\tvalidation_0-logloss:0.05369\tvalidation_1-logloss:0.07746\n",
            "[312]\tvalidation_0-logloss:0.05344\tvalidation_1-logloss:0.07730\n",
            "[313]\tvalidation_0-logloss:0.05319\tvalidation_1-logloss:0.07717\n",
            "[314]\tvalidation_0-logloss:0.05296\tvalidation_1-logloss:0.07698\n",
            "[315]\tvalidation_0-logloss:0.05275\tvalidation_1-logloss:0.07691\n",
            "[316]\tvalidation_0-logloss:0.05253\tvalidation_1-logloss:0.07674\n",
            "[317]\tvalidation_0-logloss:0.05229\tvalidation_1-logloss:0.07652\n",
            "[318]\tvalidation_0-logloss:0.05206\tvalidation_1-logloss:0.07628\n",
            "[319]\tvalidation_0-logloss:0.05185\tvalidation_1-logloss:0.07612\n",
            "[320]\tvalidation_0-logloss:0.05162\tvalidation_1-logloss:0.07603\n",
            "[321]\tvalidation_0-logloss:0.05145\tvalidation_1-logloss:0.07579\n",
            "[322]\tvalidation_0-logloss:0.05125\tvalidation_1-logloss:0.07569\n",
            "[323]\tvalidation_0-logloss:0.05099\tvalidation_1-logloss:0.07544\n",
            "[324]\tvalidation_0-logloss:0.05079\tvalidation_1-logloss:0.07524\n",
            "[325]\tvalidation_0-logloss:0.05059\tvalidation_1-logloss:0.07511\n",
            "[326]\tvalidation_0-logloss:0.05037\tvalidation_1-logloss:0.07496\n",
            "[327]\tvalidation_0-logloss:0.05015\tvalidation_1-logloss:0.07481\n",
            "[328]\tvalidation_0-logloss:0.04994\tvalidation_1-logloss:0.07473\n",
            "[329]\tvalidation_0-logloss:0.04973\tvalidation_1-logloss:0.07461\n",
            "[330]\tvalidation_0-logloss:0.04950\tvalidation_1-logloss:0.07444\n",
            "[331]\tvalidation_0-logloss:0.04929\tvalidation_1-logloss:0.07437\n",
            "[332]\tvalidation_0-logloss:0.04910\tvalidation_1-logloss:0.07425\n",
            "[333]\tvalidation_0-logloss:0.04888\tvalidation_1-logloss:0.07411\n",
            "[334]\tvalidation_0-logloss:0.04869\tvalidation_1-logloss:0.07399\n",
            "[335]\tvalidation_0-logloss:0.04850\tvalidation_1-logloss:0.07387\n",
            "[336]\tvalidation_0-logloss:0.04830\tvalidation_1-logloss:0.07369\n",
            "[337]\tvalidation_0-logloss:0.04810\tvalidation_1-logloss:0.07342\n",
            "[338]\tvalidation_0-logloss:0.04792\tvalidation_1-logloss:0.07330\n",
            "[339]\tvalidation_0-logloss:0.04771\tvalidation_1-logloss:0.07304\n",
            "[340]\tvalidation_0-logloss:0.04749\tvalidation_1-logloss:0.07274\n",
            "[341]\tvalidation_0-logloss:0.04729\tvalidation_1-logloss:0.07262\n",
            "[342]\tvalidation_0-logloss:0.04708\tvalidation_1-logloss:0.07246\n",
            "[343]\tvalidation_0-logloss:0.04687\tvalidation_1-logloss:0.07231\n",
            "[344]\tvalidation_0-logloss:0.04669\tvalidation_1-logloss:0.07222\n",
            "[345]\tvalidation_0-logloss:0.04651\tvalidation_1-logloss:0.07209\n",
            "[346]\tvalidation_0-logloss:0.04631\tvalidation_1-logloss:0.07198\n",
            "[347]\tvalidation_0-logloss:0.04614\tvalidation_1-logloss:0.07188\n",
            "[348]\tvalidation_0-logloss:0.04598\tvalidation_1-logloss:0.07179\n",
            "[349]\tvalidation_0-logloss:0.04583\tvalidation_1-logloss:0.07163\n",
            "[350]\tvalidation_0-logloss:0.04565\tvalidation_1-logloss:0.07149\n",
            "[351]\tvalidation_0-logloss:0.04544\tvalidation_1-logloss:0.07139\n",
            "[352]\tvalidation_0-logloss:0.04520\tvalidation_1-logloss:0.07107\n",
            "[353]\tvalidation_0-logloss:0.04501\tvalidation_1-logloss:0.07093\n",
            "[354]\tvalidation_0-logloss:0.04483\tvalidation_1-logloss:0.07083\n",
            "[355]\tvalidation_0-logloss:0.04464\tvalidation_1-logloss:0.07069\n",
            "[356]\tvalidation_0-logloss:0.04448\tvalidation_1-logloss:0.07057\n",
            "[357]\tvalidation_0-logloss:0.04428\tvalidation_1-logloss:0.07043\n",
            "[358]\tvalidation_0-logloss:0.04410\tvalidation_1-logloss:0.07026\n",
            "[359]\tvalidation_0-logloss:0.04391\tvalidation_1-logloss:0.07007\n",
            "[360]\tvalidation_0-logloss:0.04377\tvalidation_1-logloss:0.06991\n",
            "[361]\tvalidation_0-logloss:0.04360\tvalidation_1-logloss:0.06979\n",
            "[362]\tvalidation_0-logloss:0.04343\tvalidation_1-logloss:0.06971\n",
            "[363]\tvalidation_0-logloss:0.04329\tvalidation_1-logloss:0.06950\n",
            "[364]\tvalidation_0-logloss:0.04313\tvalidation_1-logloss:0.06946\n",
            "[365]\tvalidation_0-logloss:0.04296\tvalidation_1-logloss:0.06932\n",
            "[366]\tvalidation_0-logloss:0.04279\tvalidation_1-logloss:0.06920\n",
            "[367]\tvalidation_0-logloss:0.04264\tvalidation_1-logloss:0.06911\n",
            "[368]\tvalidation_0-logloss:0.04248\tvalidation_1-logloss:0.06901\n",
            "[369]\tvalidation_0-logloss:0.04231\tvalidation_1-logloss:0.06887\n",
            "[370]\tvalidation_0-logloss:0.04213\tvalidation_1-logloss:0.06867\n",
            "[371]\tvalidation_0-logloss:0.04198\tvalidation_1-logloss:0.06853\n",
            "[372]\tvalidation_0-logloss:0.04183\tvalidation_1-logloss:0.06842\n",
            "[373]\tvalidation_0-logloss:0.04167\tvalidation_1-logloss:0.06819\n",
            "[374]\tvalidation_0-logloss:0.04150\tvalidation_1-logloss:0.06799\n",
            "[375]\tvalidation_0-logloss:0.04135\tvalidation_1-logloss:0.06791\n",
            "[376]\tvalidation_0-logloss:0.04117\tvalidation_1-logloss:0.06783\n",
            "[377]\tvalidation_0-logloss:0.04097\tvalidation_1-logloss:0.06756\n",
            "[378]\tvalidation_0-logloss:0.04083\tvalidation_1-logloss:0.06748\n",
            "[379]\tvalidation_0-logloss:0.04069\tvalidation_1-logloss:0.06739\n",
            "[380]\tvalidation_0-logloss:0.04054\tvalidation_1-logloss:0.06723\n",
            "[381]\tvalidation_0-logloss:0.04038\tvalidation_1-logloss:0.06718\n",
            "[382]\tvalidation_0-logloss:0.04026\tvalidation_1-logloss:0.06701\n",
            "[383]\tvalidation_0-logloss:0.04010\tvalidation_1-logloss:0.06695\n",
            "[384]\tvalidation_0-logloss:0.03995\tvalidation_1-logloss:0.06681\n",
            "[385]\tvalidation_0-logloss:0.03982\tvalidation_1-logloss:0.06672\n",
            "[386]\tvalidation_0-logloss:0.03967\tvalidation_1-logloss:0.06664\n",
            "[387]\tvalidation_0-logloss:0.03951\tvalidation_1-logloss:0.06653\n",
            "[388]\tvalidation_0-logloss:0.03938\tvalidation_1-logloss:0.06647\n",
            "[389]\tvalidation_0-logloss:0.03924\tvalidation_1-logloss:0.06634\n",
            "[390]\tvalidation_0-logloss:0.03907\tvalidation_1-logloss:0.06627\n",
            "[391]\tvalidation_0-logloss:0.03894\tvalidation_1-logloss:0.06619\n",
            "[392]\tvalidation_0-logloss:0.03876\tvalidation_1-logloss:0.06594\n",
            "[393]\tvalidation_0-logloss:0.03862\tvalidation_1-logloss:0.06587\n",
            "[394]\tvalidation_0-logloss:0.03848\tvalidation_1-logloss:0.06576\n",
            "[395]\tvalidation_0-logloss:0.03834\tvalidation_1-logloss:0.06559\n",
            "[396]\tvalidation_0-logloss:0.03820\tvalidation_1-logloss:0.06542\n",
            "[397]\tvalidation_0-logloss:0.03807\tvalidation_1-logloss:0.06525\n",
            "[398]\tvalidation_0-logloss:0.03792\tvalidation_1-logloss:0.06519\n",
            "[399]\tvalidation_0-logloss:0.03778\tvalidation_1-logloss:0.06512\n",
            "[400]\tvalidation_0-logloss:0.03766\tvalidation_1-logloss:0.06510\n",
            "[401]\tvalidation_0-logloss:0.03752\tvalidation_1-logloss:0.06501\n",
            "[402]\tvalidation_0-logloss:0.03736\tvalidation_1-logloss:0.06491\n",
            "[403]\tvalidation_0-logloss:0.03722\tvalidation_1-logloss:0.06482\n",
            "[404]\tvalidation_0-logloss:0.03709\tvalidation_1-logloss:0.06473\n",
            "[405]\tvalidation_0-logloss:0.03695\tvalidation_1-logloss:0.06456\n",
            "[406]\tvalidation_0-logloss:0.03682\tvalidation_1-logloss:0.06449\n",
            "[407]\tvalidation_0-logloss:0.03671\tvalidation_1-logloss:0.06435\n",
            "[408]\tvalidation_0-logloss:0.03658\tvalidation_1-logloss:0.06428\n",
            "[409]\tvalidation_0-logloss:0.03647\tvalidation_1-logloss:0.06414\n",
            "[410]\tvalidation_0-logloss:0.03635\tvalidation_1-logloss:0.06408\n",
            "[411]\tvalidation_0-logloss:0.03623\tvalidation_1-logloss:0.06385\n",
            "[412]\tvalidation_0-logloss:0.03611\tvalidation_1-logloss:0.06382\n",
            "[413]\tvalidation_0-logloss:0.03597\tvalidation_1-logloss:0.06377\n",
            "[414]\tvalidation_0-logloss:0.03585\tvalidation_1-logloss:0.06367\n",
            "[415]\tvalidation_0-logloss:0.03574\tvalidation_1-logloss:0.06351\n",
            "[416]\tvalidation_0-logloss:0.03562\tvalidation_1-logloss:0.06345\n",
            "[417]\tvalidation_0-logloss:0.03551\tvalidation_1-logloss:0.06343\n",
            "[418]\tvalidation_0-logloss:0.03536\tvalidation_1-logloss:0.06323\n",
            "[419]\tvalidation_0-logloss:0.03523\tvalidation_1-logloss:0.06315\n",
            "[420]\tvalidation_0-logloss:0.03513\tvalidation_1-logloss:0.06300\n",
            "[421]\tvalidation_0-logloss:0.03500\tvalidation_1-logloss:0.06294\n",
            "[422]\tvalidation_0-logloss:0.03490\tvalidation_1-logloss:0.06282\n",
            "[423]\tvalidation_0-logloss:0.03478\tvalidation_1-logloss:0.06274\n",
            "[424]\tvalidation_0-logloss:0.03467\tvalidation_1-logloss:0.06264\n",
            "[425]\tvalidation_0-logloss:0.03455\tvalidation_1-logloss:0.06260\n",
            "[426]\tvalidation_0-logloss:0.03443\tvalidation_1-logloss:0.06239\n",
            "[427]\tvalidation_0-logloss:0.03432\tvalidation_1-logloss:0.06231\n",
            "[428]\tvalidation_0-logloss:0.03420\tvalidation_1-logloss:0.06212\n",
            "[429]\tvalidation_0-logloss:0.03409\tvalidation_1-logloss:0.06201\n",
            "[430]\tvalidation_0-logloss:0.03400\tvalidation_1-logloss:0.06189\n",
            "[431]\tvalidation_0-logloss:0.03389\tvalidation_1-logloss:0.06178\n",
            "[432]\tvalidation_0-logloss:0.03379\tvalidation_1-logloss:0.06175\n",
            "[433]\tvalidation_0-logloss:0.03367\tvalidation_1-logloss:0.06168\n",
            "[434]\tvalidation_0-logloss:0.03354\tvalidation_1-logloss:0.06162\n",
            "[435]\tvalidation_0-logloss:0.03343\tvalidation_1-logloss:0.06154\n",
            "[436]\tvalidation_0-logloss:0.03332\tvalidation_1-logloss:0.06150\n",
            "[437]\tvalidation_0-logloss:0.03320\tvalidation_1-logloss:0.06131\n",
            "[438]\tvalidation_0-logloss:0.03309\tvalidation_1-logloss:0.06125\n",
            "[439]\tvalidation_0-logloss:0.03297\tvalidation_1-logloss:0.06122\n",
            "[440]\tvalidation_0-logloss:0.03288\tvalidation_1-logloss:0.06105\n",
            "[441]\tvalidation_0-logloss:0.03278\tvalidation_1-logloss:0.06102\n",
            "[442]\tvalidation_0-logloss:0.03268\tvalidation_1-logloss:0.06099\n",
            "[443]\tvalidation_0-logloss:0.03257\tvalidation_1-logloss:0.06092\n",
            "[444]\tvalidation_0-logloss:0.03248\tvalidation_1-logloss:0.06084\n",
            "[445]\tvalidation_0-logloss:0.03238\tvalidation_1-logloss:0.06072\n",
            "[446]\tvalidation_0-logloss:0.03227\tvalidation_1-logloss:0.06064\n",
            "[447]\tvalidation_0-logloss:0.03219\tvalidation_1-logloss:0.06051\n",
            "[448]\tvalidation_0-logloss:0.03209\tvalidation_1-logloss:0.06046\n",
            "[449]\tvalidation_0-logloss:0.03198\tvalidation_1-logloss:0.06036\n",
            "[450]\tvalidation_0-logloss:0.03189\tvalidation_1-logloss:0.06025\n",
            "[451]\tvalidation_0-logloss:0.03180\tvalidation_1-logloss:0.06012\n",
            "[452]\tvalidation_0-logloss:0.03169\tvalidation_1-logloss:0.05993\n",
            "[453]\tvalidation_0-logloss:0.03160\tvalidation_1-logloss:0.05976\n",
            "[454]\tvalidation_0-logloss:0.03151\tvalidation_1-logloss:0.05960\n",
            "[455]\tvalidation_0-logloss:0.03142\tvalidation_1-logloss:0.05943\n",
            "[456]\tvalidation_0-logloss:0.03133\tvalidation_1-logloss:0.05935\n",
            "[457]\tvalidation_0-logloss:0.03123\tvalidation_1-logloss:0.05929\n",
            "[458]\tvalidation_0-logloss:0.03114\tvalidation_1-logloss:0.05924\n",
            "[459]\tvalidation_0-logloss:0.03103\tvalidation_1-logloss:0.05908\n",
            "[460]\tvalidation_0-logloss:0.03088\tvalidation_1-logloss:0.05891\n",
            "[461]\tvalidation_0-logloss:0.03080\tvalidation_1-logloss:0.05888\n",
            "[462]\tvalidation_0-logloss:0.03070\tvalidation_1-logloss:0.05882\n",
            "[463]\tvalidation_0-logloss:0.03061\tvalidation_1-logloss:0.05871\n",
            "[464]\tvalidation_0-logloss:0.03050\tvalidation_1-logloss:0.05857\n",
            "[465]\tvalidation_0-logloss:0.03042\tvalidation_1-logloss:0.05842\n",
            "[466]\tvalidation_0-logloss:0.03034\tvalidation_1-logloss:0.05828\n",
            "[467]\tvalidation_0-logloss:0.03024\tvalidation_1-logloss:0.05819\n",
            "[468]\tvalidation_0-logloss:0.03013\tvalidation_1-logloss:0.05804\n",
            "[469]\tvalidation_0-logloss:0.03004\tvalidation_1-logloss:0.05787\n",
            "[470]\tvalidation_0-logloss:0.02995\tvalidation_1-logloss:0.05785\n",
            "[471]\tvalidation_0-logloss:0.02985\tvalidation_1-logloss:0.05783\n",
            "[472]\tvalidation_0-logloss:0.02972\tvalidation_1-logloss:0.05769\n",
            "[473]\tvalidation_0-logloss:0.02961\tvalidation_1-logloss:0.05762\n",
            "[474]\tvalidation_0-logloss:0.02954\tvalidation_1-logloss:0.05751\n",
            "[475]\tvalidation_0-logloss:0.02945\tvalidation_1-logloss:0.05749\n",
            "[476]\tvalidation_0-logloss:0.02937\tvalidation_1-logloss:0.05739\n",
            "[477]\tvalidation_0-logloss:0.02925\tvalidation_1-logloss:0.05731\n",
            "[478]\tvalidation_0-logloss:0.02916\tvalidation_1-logloss:0.05721\n",
            "[479]\tvalidation_0-logloss:0.02907\tvalidation_1-logloss:0.05713\n",
            "[480]\tvalidation_0-logloss:0.02897\tvalidation_1-logloss:0.05718\n",
            "[481]\tvalidation_0-logloss:0.02887\tvalidation_1-logloss:0.05717\n",
            "[482]\tvalidation_0-logloss:0.02875\tvalidation_1-logloss:0.05704\n",
            "[483]\tvalidation_0-logloss:0.02867\tvalidation_1-logloss:0.05700\n",
            "[484]\tvalidation_0-logloss:0.02859\tvalidation_1-logloss:0.05695\n",
            "[485]\tvalidation_0-logloss:0.02852\tvalidation_1-logloss:0.05682\n",
            "[486]\tvalidation_0-logloss:0.02844\tvalidation_1-logloss:0.05672\n",
            "[487]\tvalidation_0-logloss:0.02836\tvalidation_1-logloss:0.05670\n",
            "[488]\tvalidation_0-logloss:0.02829\tvalidation_1-logloss:0.05665\n",
            "[489]\tvalidation_0-logloss:0.02821\tvalidation_1-logloss:0.05653\n",
            "[490]\tvalidation_0-logloss:0.02811\tvalidation_1-logloss:0.05640\n",
            "[491]\tvalidation_0-logloss:0.02804\tvalidation_1-logloss:0.05629\n",
            "[492]\tvalidation_0-logloss:0.02796\tvalidation_1-logloss:0.05625\n",
            "[493]\tvalidation_0-logloss:0.02788\tvalidation_1-logloss:0.05624\n",
            "[494]\tvalidation_0-logloss:0.02778\tvalidation_1-logloss:0.05610\n",
            "[495]\tvalidation_0-logloss:0.02770\tvalidation_1-logloss:0.05608\n",
            "[496]\tvalidation_0-logloss:0.02762\tvalidation_1-logloss:0.05600\n",
            "[497]\tvalidation_0-logloss:0.02753\tvalidation_1-logloss:0.05579\n",
            "[498]\tvalidation_0-logloss:0.02744\tvalidation_1-logloss:0.05565\n",
            "[499]\tvalidation_0-logloss:0.02737\tvalidation_1-logloss:0.05564\n",
            "[500]\tvalidation_0-logloss:0.02730\tvalidation_1-logloss:0.05559\n",
            "[501]\tvalidation_0-logloss:0.02723\tvalidation_1-logloss:0.05545\n",
            "[502]\tvalidation_0-logloss:0.02713\tvalidation_1-logloss:0.05533\n",
            "[503]\tvalidation_0-logloss:0.02704\tvalidation_1-logloss:0.05528\n",
            "[504]\tvalidation_0-logloss:0.02698\tvalidation_1-logloss:0.05524\n",
            "[505]\tvalidation_0-logloss:0.02691\tvalidation_1-logloss:0.05518\n",
            "[506]\tvalidation_0-logloss:0.02682\tvalidation_1-logloss:0.05507\n",
            "[507]\tvalidation_0-logloss:0.02673\tvalidation_1-logloss:0.05510\n",
            "[508]\tvalidation_0-logloss:0.02665\tvalidation_1-logloss:0.05507\n",
            "[509]\tvalidation_0-logloss:0.02658\tvalidation_1-logloss:0.05507\n",
            "[510]\tvalidation_0-logloss:0.02649\tvalidation_1-logloss:0.05486\n",
            "[511]\tvalidation_0-logloss:0.02643\tvalidation_1-logloss:0.05479\n",
            "[512]\tvalidation_0-logloss:0.02635\tvalidation_1-logloss:0.05473\n",
            "[513]\tvalidation_0-logloss:0.02627\tvalidation_1-logloss:0.05470\n",
            "[514]\tvalidation_0-logloss:0.02618\tvalidation_1-logloss:0.05458\n",
            "[515]\tvalidation_0-logloss:0.02611\tvalidation_1-logloss:0.05457\n",
            "[516]\tvalidation_0-logloss:0.02604\tvalidation_1-logloss:0.05448\n",
            "[517]\tvalidation_0-logloss:0.02597\tvalidation_1-logloss:0.05444\n",
            "[518]\tvalidation_0-logloss:0.02589\tvalidation_1-logloss:0.05437\n",
            "[519]\tvalidation_0-logloss:0.02580\tvalidation_1-logloss:0.05430\n",
            "[520]\tvalidation_0-logloss:0.02573\tvalidation_1-logloss:0.05420\n",
            "[521]\tvalidation_0-logloss:0.02567\tvalidation_1-logloss:0.05413\n",
            "[522]\tvalidation_0-logloss:0.02558\tvalidation_1-logloss:0.05401\n",
            "[523]\tvalidation_0-logloss:0.02551\tvalidation_1-logloss:0.05397\n",
            "[524]\tvalidation_0-logloss:0.02543\tvalidation_1-logloss:0.05390\n",
            "[525]\tvalidation_0-logloss:0.02536\tvalidation_1-logloss:0.05382\n",
            "[526]\tvalidation_0-logloss:0.02529\tvalidation_1-logloss:0.05379\n",
            "[527]\tvalidation_0-logloss:0.02520\tvalidation_1-logloss:0.05368\n",
            "[528]\tvalidation_0-logloss:0.02511\tvalidation_1-logloss:0.05356\n",
            "[529]\tvalidation_0-logloss:0.02505\tvalidation_1-logloss:0.05349\n",
            "[530]\tvalidation_0-logloss:0.02499\tvalidation_1-logloss:0.05338\n",
            "[531]\tvalidation_0-logloss:0.02493\tvalidation_1-logloss:0.05333\n",
            "[532]\tvalidation_0-logloss:0.02486\tvalidation_1-logloss:0.05316\n",
            "[533]\tvalidation_0-logloss:0.02479\tvalidation_1-logloss:0.05313\n",
            "[534]\tvalidation_0-logloss:0.02474\tvalidation_1-logloss:0.05300\n",
            "[535]\tvalidation_0-logloss:0.02465\tvalidation_1-logloss:0.05289\n",
            "[536]\tvalidation_0-logloss:0.02458\tvalidation_1-logloss:0.05283\n",
            "[537]\tvalidation_0-logloss:0.02450\tvalidation_1-logloss:0.05277\n",
            "[538]\tvalidation_0-logloss:0.02444\tvalidation_1-logloss:0.05274\n",
            "[539]\tvalidation_0-logloss:0.02435\tvalidation_1-logloss:0.05263\n",
            "[540]\tvalidation_0-logloss:0.02430\tvalidation_1-logloss:0.05257\n",
            "[541]\tvalidation_0-logloss:0.02423\tvalidation_1-logloss:0.05252\n",
            "[542]\tvalidation_0-logloss:0.02417\tvalidation_1-logloss:0.05251\n",
            "[543]\tvalidation_0-logloss:0.02410\tvalidation_1-logloss:0.05248\n",
            "[544]\tvalidation_0-logloss:0.02404\tvalidation_1-logloss:0.05242\n",
            "[545]\tvalidation_0-logloss:0.02397\tvalidation_1-logloss:0.05231\n",
            "[546]\tvalidation_0-logloss:0.02392\tvalidation_1-logloss:0.05224\n",
            "[547]\tvalidation_0-logloss:0.02384\tvalidation_1-logloss:0.05216\n",
            "[548]\tvalidation_0-logloss:0.02379\tvalidation_1-logloss:0.05210\n",
            "[549]\tvalidation_0-logloss:0.02371\tvalidation_1-logloss:0.05208\n",
            "[550]\tvalidation_0-logloss:0.02366\tvalidation_1-logloss:0.05202\n",
            "[551]\tvalidation_0-logloss:0.02359\tvalidation_1-logloss:0.05198\n",
            "[552]\tvalidation_0-logloss:0.02353\tvalidation_1-logloss:0.05195\n",
            "[553]\tvalidation_0-logloss:0.02347\tvalidation_1-logloss:0.05189\n",
            "[554]\tvalidation_0-logloss:0.02338\tvalidation_1-logloss:0.05179\n",
            "[555]\tvalidation_0-logloss:0.02329\tvalidation_1-logloss:0.05183\n",
            "[556]\tvalidation_0-logloss:0.02323\tvalidation_1-logloss:0.05177\n",
            "[557]\tvalidation_0-logloss:0.02317\tvalidation_1-logloss:0.05175\n",
            "[558]\tvalidation_0-logloss:0.02312\tvalidation_1-logloss:0.05170\n",
            "[559]\tvalidation_0-logloss:0.02305\tvalidation_1-logloss:0.05169\n",
            "[560]\tvalidation_0-logloss:0.02299\tvalidation_1-logloss:0.05172\n",
            "[561]\tvalidation_0-logloss:0.02293\tvalidation_1-logloss:0.05168\n",
            "[562]\tvalidation_0-logloss:0.02286\tvalidation_1-logloss:0.05163\n",
            "[563]\tvalidation_0-logloss:0.02281\tvalidation_1-logloss:0.05161\n",
            "[564]\tvalidation_0-logloss:0.02275\tvalidation_1-logloss:0.05151\n",
            "[565]\tvalidation_0-logloss:0.02268\tvalidation_1-logloss:0.05145\n",
            "[566]\tvalidation_0-logloss:0.02262\tvalidation_1-logloss:0.05136\n",
            "[567]\tvalidation_0-logloss:0.02257\tvalidation_1-logloss:0.05121\n",
            "[568]\tvalidation_0-logloss:0.02251\tvalidation_1-logloss:0.05117\n",
            "[569]\tvalidation_0-logloss:0.02244\tvalidation_1-logloss:0.05108\n",
            "[570]\tvalidation_0-logloss:0.02239\tvalidation_1-logloss:0.05103\n",
            "[571]\tvalidation_0-logloss:0.02230\tvalidation_1-logloss:0.05108\n",
            "[572]\tvalidation_0-logloss:0.02225\tvalidation_1-logloss:0.05107\n",
            "[573]\tvalidation_0-logloss:0.02221\tvalidation_1-logloss:0.05105\n",
            "[574]\tvalidation_0-logloss:0.02215\tvalidation_1-logloss:0.05105\n",
            "[575]\tvalidation_0-logloss:0.02210\tvalidation_1-logloss:0.05101\n",
            "[576]\tvalidation_0-logloss:0.02205\tvalidation_1-logloss:0.05095\n",
            "[577]\tvalidation_0-logloss:0.02200\tvalidation_1-logloss:0.05086\n",
            "[578]\tvalidation_0-logloss:0.02194\tvalidation_1-logloss:0.05077\n",
            "[579]\tvalidation_0-logloss:0.02186\tvalidation_1-logloss:0.05067\n",
            "[580]\tvalidation_0-logloss:0.02180\tvalidation_1-logloss:0.05057\n",
            "[581]\tvalidation_0-logloss:0.02175\tvalidation_1-logloss:0.05050\n",
            "[582]\tvalidation_0-logloss:0.02167\tvalidation_1-logloss:0.05040\n",
            "[583]\tvalidation_0-logloss:0.02162\tvalidation_1-logloss:0.05037\n",
            "[584]\tvalidation_0-logloss:0.02156\tvalidation_1-logloss:0.05023\n",
            "[585]\tvalidation_0-logloss:0.02151\tvalidation_1-logloss:0.05018\n",
            "[586]\tvalidation_0-logloss:0.02145\tvalidation_1-logloss:0.05005\n",
            "[587]\tvalidation_0-logloss:0.02140\tvalidation_1-logloss:0.05005\n",
            "[588]\tvalidation_0-logloss:0.02134\tvalidation_1-logloss:0.04996\n",
            "[589]\tvalidation_0-logloss:0.02127\tvalidation_1-logloss:0.04981\n",
            "[590]\tvalidation_0-logloss:0.02122\tvalidation_1-logloss:0.04979\n",
            "[591]\tvalidation_0-logloss:0.02117\tvalidation_1-logloss:0.04978\n",
            "[592]\tvalidation_0-logloss:0.02111\tvalidation_1-logloss:0.04972\n",
            "[593]\tvalidation_0-logloss:0.02105\tvalidation_1-logloss:0.04972\n",
            "[594]\tvalidation_0-logloss:0.02100\tvalidation_1-logloss:0.04968\n",
            "[595]\tvalidation_0-logloss:0.02092\tvalidation_1-logloss:0.04958\n",
            "[596]\tvalidation_0-logloss:0.02087\tvalidation_1-logloss:0.04959\n",
            "[597]\tvalidation_0-logloss:0.02082\tvalidation_1-logloss:0.04954\n",
            "[598]\tvalidation_0-logloss:0.02077\tvalidation_1-logloss:0.04951\n",
            "[599]\tvalidation_0-logloss:0.02072\tvalidation_1-logloss:0.04945\n",
            "logloss: 0.049 \n",
            "              precision    recall  f1-score   support\n",
            "\n",
            "           0       0.80      0.47      0.59        17\n",
            "           1       0.99      1.00      0.99       647\n",
            "\n",
            "    accuracy                           0.98       664\n",
            "   macro avg       0.89      0.73      0.79       664\n",
            "weighted avg       0.98      0.98      0.98       664\n",
            "\n"
          ]
        }
      ],
      "source": [
        "from imblearn.over_sampling import SMOTE\n",
        "\n",
        "xgb = XGBClassifier(learning_rate=0.02, n_estimators=600, max_depth=4, subsample= 1.0, min_child_weight=1, gamma= 0.5, colsample_bytree= 0.8, random_state=42)\n",
        "\n",
        "x_train_sampled, y_train_sampled = SMOTE(random_state = 42).fit_resample(\n",
        "    xtrain_tfv, ytrain\n",
        ")\n",
        "\n",
        "watchlist = [(x_train_sampled, y_train_sampled), (xval_tfv, yval)]\n",
        "\n",
        "# Fitting xgb on training dataset\n",
        "xgb.fit(x_train_sampled, y_train_sampled, eval_set = watchlist, early_stopping_rounds=50,)\n",
        "\n",
        "# Making predictions on validation dataset\n",
        "predictions = xgb.predict_proba(xval_tfv)\n",
        "print (\"logloss: %0.3f \" % log_loss(yval, predictions))\n",
        "\n",
        "ypred_xg = xgb.predict(xval_tfv)\n",
        "print(classification_report(yval, ypred_xg))"
      ]
    },
    {
      "cell_type": "code",
      "execution_count": null,
      "metadata": {
        "id": "Ul0yPhJfxkgd"
      },
      "outputs": [],
      "source": [
        "def summarize_results(model, X_val_encoded, y_val):\n",
        "    # 1. Train / Val Loss Plot\n",
        "    if isinstance(model, XGBClassifier):\n",
        "        results = model.evals_result()\n",
        "        tgts = results[\"validation_0\"].keys()\n",
        "\n",
        "        for tgt in tgts:\n",
        "            train_error = results[\"validation_0\"][tgt]\n",
        "            val_error = results[\"validation_1\"][tgt]\n",
        "\n",
        "            plt.plot(train_error, label=\"Train\")\n",
        "            plt.plot(val_error, label=\"Validation\")\n",
        "            plt.ylabel(tgt)\n",
        "            plt.xlabel(\"Model Complexity (n_estimators)\")\n",
        "            plt.legend()\n",
        "            plt.show()\n",
        "\n",
        "    # 2. Accuracy / Classification Report\n",
        "    print(\"검증 정확도\", model.score(X_val_encoded, y_val))\n",
        "\n",
        "    if isinstance(model, XGBClassifier):\n",
        "        y_pred = model.predict(X_val_encoded, iteration_range=(0, model.best_iteration))\n",
        "    else:\n",
        "        y_pred = model.predict(X_val_encoded)\n",
        "\n",
        "    print(classification_report(y_val, y_pred))\n",
        "\n",
        "    # 3. ROC-AUC\n",
        "    get_roc_auc(model, X_val_encoded, y_val)\n",
        "\n",
        "    # 4. Confusion Matrix\n",
        "    ConfusionMatrixDisplay.from_estimator(model, X_val_encoded, y_val,cmap='Blues')\n",
        "    plt.show()"
      ]
    },
    {
      "cell_type": "code",
      "execution_count": null,
      "metadata": {
        "id": "3S0BCQiAxkgd"
      },
      "outputs": [],
      "source": [
        "from sklearn.metrics import roc_curve, roc_auc_score\n",
        "\n",
        "\n",
        "def get_roc_auc(model, X_val_encoded, y_val):\n",
        "    if isinstance(model, XGBClassifier):\n",
        "        y_pred_proba = model.predict_proba(\n",
        "            X_val_encoded, iteration_range=(0, model.best_iteration)\n",
        "        )[:, 1]\n",
        "    else:\n",
        "        y_pred_proba = model.predict_proba(X_val_encoded)[:, 1]\n",
        "\n",
        "    print(\"ROC-AUC:\", roc_auc_score(y_val, y_pred_proba))\n",
        "\n",
        "    baseline_fpr, baseline_tpr, _ = roc_curve(y_val, [0] * len(y_val))\n",
        "    fpr, tpr, thresholds = roc_curve(y_val, y_pred_proba)\n",
        "    tmp = pd.DataFrame({'fpr':fpr, 'tpr':tpr, 'thresholds': thresholds})\n",
        "    plt.plot(baseline_fpr, baseline_tpr, linestyle=\"--\", color=\"green\", label=\"Baseline\"\n",
        "    )\n",
        "    plt.plot(fpr, tpr, color=\"blue\", label=\"Model\")\n",
        "    plt.scatter(fpr, tpr, color=\"red\")\n",
        "    plt.legend()\n",
        "    plt.title(\"ROC curve\")\n",
        "    plt.xlabel(\"FPR\")\n",
        "    plt.ylabel(\"TPR\")\n",
        "    plt.show()\n",
        "    return tmp"
      ]
    },
    {
      "cell_type": "code",
      "execution_count": null,
      "metadata": {
        "id": "F3tMZXk7xkge"
      },
      "outputs": [],
      "source": [
        "from sklearn.metrics import confusion_matrix, ConfusionMatrixDisplay\n"
      ]
    },
    {
      "cell_type": "code",
      "execution_count": null,
      "metadata": {
        "id": "g0GwtyZ3xkge",
        "outputId": "9052b3fa-e9dc-4b97-bf31-7c98b567b04e"
      },
      "outputs": [
        {
          "data": {
            "image/png": "[encoded data removed]",
            "text/plain": [
              "<Figure size 432x288 with 1 Axes>"
            ]
          },
          "metadata": {
            "needs_background": "light"
          },
          "output_type": "display_data"
        },
        {
          "name": "stdout",
          "output_type": "stream",
          "text": [
            "검증 정확도 0.983433734939759\n",
            "              precision    recall  f1-score   support\n",
            "\n",
            "           0       0.80      0.47      0.59        17\n",
            "           1       0.99      1.00      0.99       647\n",
            "\n",
            "    accuracy                           0.98       664\n",
            "   macro avg       0.89      0.73      0.79       664\n",
            "weighted avg       0.98      0.98      0.98       664\n",
            "\n",
            "ROC-AUC: 0.9689062642058369\n"
          ]
        },
        {
          "data": {
            "image/png": "[encoded data removed]",
            "text/plain": [
              "<Figure size 432x288 with 1 Axes>"
            ]
          },
          "metadata": {
            "needs_background": "light"
          },
          "output_type": "display_data"
        },
        {
          "data": {
            "image/png": "[encoded data removed]",
            "text/plain": [
              "<Figure size 432x288 with 2 Axes>"
            ]
          },
          "metadata": {
            "needs_background": "light"
          },
          "output_type": "display_data"
        }
      ],
      "source": [
        "summarize_results(xgb, xval_tfv, yval)"
      ]
    },
    {
      "cell_type": "code",
      "execution_count": null,
      "metadata": {
        "id": "mZNJhbvjxkge"
      },
      "outputs": [],
      "source": [
        "# Transfroming test dataset using the same tfidf vectorizer we fit on training dataset\n",
        "xtest_tfv = tfv.transform(xtest)"
      ]
    },
    {
      "cell_type": "code",
      "execution_count": null,
      "metadata": {
        "id": "hMBOjNbFxkge",
        "outputId": "1af0e0ed-91a8-4f30-e5a0-7d6e3934a024"
      },
      "outputs": [
        {
          "name": "stdout",
          "output_type": "stream",
          "text": [
            "logloss: 0.049 \n",
            "              precision    recall  f1-score   support\n",
            "\n",
            "           0       0.88      0.49      0.63        43\n",
            "           1       0.99      1.00      0.99      1616\n",
            "\n",
            "    accuracy                           0.98      1659\n",
            "   macro avg       0.93      0.74      0.81      1659\n",
            "weighted avg       0.98      0.98      0.98      1659\n",
            "\n"
          ]
        }
      ],
      "source": [
        "predictions = xgb.predict_proba(xtest_tfv)\n",
        "print (\"logloss: %0.3f \" % log_loss(ytest, predictions))\n",
        "ypred_xg = xgb.predict(xtest_tfv)\n",
        "print(classification_report(ytest, ypred_xg))"
      ]
    }
  ],
  "metadata": {
    "kernelspec": {
      "display_name": "base",
      "language": "python",
      "name": "python3"
    },
    "language_info": {
      "codemirror_mode": {
        "name": "ipython",
        "version": 3
      },
      "file_extension": ".py",
      "mimetype": "text/x-python",
      "name": "python",
      "nbconvert_exporter": "python",
      "pygments_lexer": "ipython3",
      "version": "3.9.12"
    },
    "orig_nbformat": 4,
    "colab": {
      "provenance": [],
      "include_colab_link": true
    }
  },
  "nbformat": 4,
  "nbformat_minor": 0
}